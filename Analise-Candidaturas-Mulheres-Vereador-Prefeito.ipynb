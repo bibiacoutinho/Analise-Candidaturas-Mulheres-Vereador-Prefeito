{
 "cells": [
  {
   "cell_type": "markdown",
   "metadata": {},
   "source": [
    "<h2>Análise da candidatura de mulheres ao cargo de Vereador X Prefeito, no Brasil, nas eleições de 2004 a 2016.</h2>\n"
   ]
  },
  {
   "cell_type": "markdown",
   "metadata": {},
   "source": [
    "Inicialmente, faremos a análise de candidaturas de mulheres ao cargo de vereador e prefeito"
   ]
  },
  {
   "cell_type": "code",
   "execution_count": 130,
   "metadata": {},
   "outputs": [],
   "source": [
    "#Importação de bibliotecas\n",
    "%matplotlib inline\n",
    "import pandas as pd\n",
    "import matplotlib.pyplot as plt\n",
    "import numpy as np\n",
    "low_memory=False"
   ]
  },
  {
   "cell_type": "code",
   "execution_count": 131,
   "metadata": {},
   "outputs": [],
   "source": [
    "#Leitura dos arquivos\n",
    "v_2004 = pd.read_csv('/home/beatriz/Documentos/projetos/EP04/CANDIDATOS_VEREADOR_2004.csv', delimiter=',', encoding='iso-8859-1', usecols=['ID_CANDIDATO', 'ANO_ELEICAO', 'NUM_TURNO', 'DESCRICAO_CARGO', 'DESCRICAO_SEXO'])\n",
    "v_2008 = pd.read_csv('/home/beatriz/Documentos/projetos/EP04/CANDIDATOS_VEREADOR_2008.csv', delimiter=',', encoding='iso-8859-1', usecols=['ID_CANDIDATO', 'ANO_ELEICAO', 'NUM_TURNO', 'DESCRICAO_CARGO', 'DESCRICAO_SEXO'])\n",
    "v_2012 = pd.read_csv('/home/beatriz/Documentos/projetos/EP04/CANDIDATOS_VEREADOR_2012.csv', delimiter=',', encoding='iso-8859-1', usecols=['ID_CANDIDATO', 'ANO_ELEICAO', 'NUM_TURNO', 'DESCRICAO_CARGO', 'DESCRICAO_SEXO'])\n",
    "v_2016 = pd.read_csv('/home/beatriz/Documentos/projetos/EP04/CANDIDATOS_VEREADOR_2016.csv', delimiter=',', encoding='iso-8859-1', usecols=['ID_CANDIDATO', 'ANO_ELEICAO', 'NUM_TURNO', 'DESCRICAO_CARGO', 'DESCRICAO_SEXO'])\n",
    "\n",
    "p_2004 = pd.read_csv('/home/beatriz/Documentos/projetos/EP04/CANDIDATOS_PREFEITO_2004.csv', delimiter=',', encoding='iso-8859-1', usecols=['ID_CANDIDATO', 'ANO_ELEICAO', 'NUM_TURNO', 'DESCRICAO_CARGO', 'DESCRICAO_SEXO'])\n",
    "p_2008 = pd.read_csv('/home/beatriz/Documentos/projetos/EP04/CANDIDATOS_PREFEITO_2008.csv', delimiter=',', encoding='iso-8859-1', usecols=['ID_CANDIDATO', 'ANO_ELEICAO', 'NUM_TURNO', 'DESCRICAO_CARGO', 'DESCRICAO_SEXO'])\n",
    "p_2012 = pd.read_csv('/home/beatriz/Documentos/projetos/EP04/CANDIDATOS_PREFEITO_2012.csv', delimiter=',', encoding='iso-8859-1', usecols=['ID_CANDIDATO', 'ANO_ELEICAO', 'NUM_TURNO', 'DESCRICAO_CARGO', 'DESCRICAO_SEXO'])\n",
    "p_2016 = pd.read_csv('/home/beatriz/Documentos/projetos/EP04/CANDIDATOS_PREFEITO_2016.csv', delimiter=',', encoding='iso-8859-1', usecols=['ID_CANDIDATO', 'ANO_ELEICAO', 'NUM_TURNO', 'DESCRICAO_CARGO', 'DESCRICAO_SEXO'])"
   ]
  },
  {
   "cell_type": "markdown",
   "metadata": {},
   "source": [
    "Após a leitura, é preciso verificar se os dados foram inseridos corretamente, portanto foi utilizado o head() e tail(), para ver o início e final de cada dataframe."
   ]
  },
  {
   "cell_type": "code",
   "execution_count": 132,
   "metadata": {},
   "outputs": [
    {
     "data": {
      "text/html": [
       "<div>\n",
       "<style scoped>\n",
       "    .dataframe tbody tr th:only-of-type {\n",
       "        vertical-align: middle;\n",
       "    }\n",
       "\n",
       "    .dataframe tbody tr th {\n",
       "        vertical-align: top;\n",
       "    }\n",
       "\n",
       "    .dataframe thead th {\n",
       "        text-align: right;\n",
       "    }\n",
       "</style>\n",
       "<table border=\"1\" class=\"dataframe\">\n",
       "  <thead>\n",
       "    <tr style=\"text-align: right;\">\n",
       "      <th></th>\n",
       "      <th>ID_CANDIDATO</th>\n",
       "      <th>ANO_ELEICAO</th>\n",
       "      <th>NUM_TURNO</th>\n",
       "      <th>DESCRICAO_CARGO</th>\n",
       "      <th>DESCRICAO_SEXO</th>\n",
       "    </tr>\n",
       "  </thead>\n",
       "  <tbody>\n",
       "    <tr>\n",
       "      <th>0</th>\n",
       "      <td>3000006</td>\n",
       "      <td>2004</td>\n",
       "      <td>1</td>\n",
       "      <td>VEREADOR</td>\n",
       "      <td>MASCULINO</td>\n",
       "    </tr>\n",
       "    <tr>\n",
       "      <th>1</th>\n",
       "      <td>3000007</td>\n",
       "      <td>2004</td>\n",
       "      <td>1</td>\n",
       "      <td>VEREADOR</td>\n",
       "      <td>MASCULINO</td>\n",
       "    </tr>\n",
       "    <tr>\n",
       "      <th>2</th>\n",
       "      <td>3000008</td>\n",
       "      <td>2004</td>\n",
       "      <td>1</td>\n",
       "      <td>VEREADOR</td>\n",
       "      <td>MASCULINO</td>\n",
       "    </tr>\n",
       "  </tbody>\n",
       "</table>\n",
       "</div>"
      ],
      "text/plain": [
       "   ID_CANDIDATO  ANO_ELEICAO  NUM_TURNO DESCRICAO_CARGO DESCRICAO_SEXO\n",
       "0       3000006         2004          1        VEREADOR      MASCULINO\n",
       "1       3000007         2004          1        VEREADOR      MASCULINO\n",
       "2       3000008         2004          1        VEREADOR      MASCULINO"
      ]
     },
     "execution_count": 132,
     "metadata": {},
     "output_type": "execute_result"
    }
   ],
   "source": [
    "v_2004.head(3)"
   ]
  },
  {
   "cell_type": "code",
   "execution_count": 133,
   "metadata": {},
   "outputs": [
    {
     "data": {
      "text/html": [
       "<div>\n",
       "<style scoped>\n",
       "    .dataframe tbody tr th:only-of-type {\n",
       "        vertical-align: middle;\n",
       "    }\n",
       "\n",
       "    .dataframe tbody tr th {\n",
       "        vertical-align: top;\n",
       "    }\n",
       "\n",
       "    .dataframe thead th {\n",
       "        text-align: right;\n",
       "    }\n",
       "</style>\n",
       "<table border=\"1\" class=\"dataframe\">\n",
       "  <thead>\n",
       "    <tr style=\"text-align: right;\">\n",
       "      <th></th>\n",
       "      <th>ID_CANDIDATO</th>\n",
       "      <th>ANO_ELEICAO</th>\n",
       "      <th>NUM_TURNO</th>\n",
       "      <th>DESCRICAO_CARGO</th>\n",
       "      <th>DESCRICAO_SEXO</th>\n",
       "    </tr>\n",
       "  </thead>\n",
       "  <tbody>\n",
       "    <tr>\n",
       "      <th>367666</th>\n",
       "      <td>3399866</td>\n",
       "      <td>2004</td>\n",
       "      <td>1</td>\n",
       "      <td>VEREADOR</td>\n",
       "      <td>MASCULINO</td>\n",
       "    </tr>\n",
       "    <tr>\n",
       "      <th>367667</th>\n",
       "      <td>3399867</td>\n",
       "      <td>2004</td>\n",
       "      <td>1</td>\n",
       "      <td>VEREADOR</td>\n",
       "      <td>FEMININO</td>\n",
       "    </tr>\n",
       "    <tr>\n",
       "      <th>367668</th>\n",
       "      <td>3399868</td>\n",
       "      <td>2004</td>\n",
       "      <td>1</td>\n",
       "      <td>VEREADOR</td>\n",
       "      <td>FEMININO</td>\n",
       "    </tr>\n",
       "  </tbody>\n",
       "</table>\n",
       "</div>"
      ],
      "text/plain": [
       "        ID_CANDIDATO  ANO_ELEICAO  NUM_TURNO DESCRICAO_CARGO DESCRICAO_SEXO\n",
       "367666       3399866         2004          1        VEREADOR      MASCULINO\n",
       "367667       3399867         2004          1        VEREADOR       FEMININO\n",
       "367668       3399868         2004          1        VEREADOR       FEMININO"
      ]
     },
     "execution_count": 133,
     "metadata": {},
     "output_type": "execute_result"
    }
   ],
   "source": [
    "v_2004.tail(3)"
   ]
  },
  {
   "cell_type": "code",
   "execution_count": 134,
   "metadata": {},
   "outputs": [
    {
     "data": {
      "text/html": [
       "<div>\n",
       "<style scoped>\n",
       "    .dataframe tbody tr th:only-of-type {\n",
       "        vertical-align: middle;\n",
       "    }\n",
       "\n",
       "    .dataframe tbody tr th {\n",
       "        vertical-align: top;\n",
       "    }\n",
       "\n",
       "    .dataframe thead th {\n",
       "        text-align: right;\n",
       "    }\n",
       "</style>\n",
       "<table border=\"1\" class=\"dataframe\">\n",
       "  <thead>\n",
       "    <tr style=\"text-align: right;\">\n",
       "      <th></th>\n",
       "      <th>ID_CANDIDATO</th>\n",
       "      <th>ANO_ELEICAO</th>\n",
       "      <th>NUM_TURNO</th>\n",
       "      <th>DESCRICAO_CARGO</th>\n",
       "      <th>DESCRICAO_SEXO</th>\n",
       "    </tr>\n",
       "  </thead>\n",
       "  <tbody>\n",
       "    <tr>\n",
       "      <th>0</th>\n",
       "      <td>5000006</td>\n",
       "      <td>2008</td>\n",
       "      <td>1</td>\n",
       "      <td>VEREADOR</td>\n",
       "      <td>MASCULINO</td>\n",
       "    </tr>\n",
       "    <tr>\n",
       "      <th>1</th>\n",
       "      <td>5000007</td>\n",
       "      <td>2008</td>\n",
       "      <td>1</td>\n",
       "      <td>VEREADOR</td>\n",
       "      <td>MASCULINO</td>\n",
       "    </tr>\n",
       "    <tr>\n",
       "      <th>2</th>\n",
       "      <td>5000008</td>\n",
       "      <td>2008</td>\n",
       "      <td>1</td>\n",
       "      <td>VEREADOR</td>\n",
       "      <td>MASCULINO</td>\n",
       "    </tr>\n",
       "  </tbody>\n",
       "</table>\n",
       "</div>"
      ],
      "text/plain": [
       "   ID_CANDIDATO  ANO_ELEICAO  NUM_TURNO DESCRICAO_CARGO DESCRICAO_SEXO\n",
       "0       5000006         2008          1        VEREADOR      MASCULINO\n",
       "1       5000007         2008          1        VEREADOR      MASCULINO\n",
       "2       5000008         2008          1        VEREADOR      MASCULINO"
      ]
     },
     "execution_count": 134,
     "metadata": {},
     "output_type": "execute_result"
    }
   ],
   "source": [
    "v_2008.head(3)"
   ]
  },
  {
   "cell_type": "code",
   "execution_count": 135,
   "metadata": {},
   "outputs": [
    {
     "data": {
      "text/html": [
       "<div>\n",
       "<style scoped>\n",
       "    .dataframe tbody tr th:only-of-type {\n",
       "        vertical-align: middle;\n",
       "    }\n",
       "\n",
       "    .dataframe tbody tr th {\n",
       "        vertical-align: top;\n",
       "    }\n",
       "\n",
       "    .dataframe thead th {\n",
       "        text-align: right;\n",
       "    }\n",
       "</style>\n",
       "<table border=\"1\" class=\"dataframe\">\n",
       "  <thead>\n",
       "    <tr style=\"text-align: right;\">\n",
       "      <th></th>\n",
       "      <th>ID_CANDIDATO</th>\n",
       "      <th>ANO_ELEICAO</th>\n",
       "      <th>NUM_TURNO</th>\n",
       "      <th>DESCRICAO_CARGO</th>\n",
       "      <th>DESCRICAO_SEXO</th>\n",
       "    </tr>\n",
       "  </thead>\n",
       "  <tbody>\n",
       "    <tr>\n",
       "      <th>351628</th>\n",
       "      <td>5384514</td>\n",
       "      <td>2008</td>\n",
       "      <td>1</td>\n",
       "      <td>VEREADOR</td>\n",
       "      <td>MASCULINO</td>\n",
       "    </tr>\n",
       "    <tr>\n",
       "      <th>351629</th>\n",
       "      <td>5384515</td>\n",
       "      <td>2008</td>\n",
       "      <td>1</td>\n",
       "      <td>VEREADOR</td>\n",
       "      <td>FEMININO</td>\n",
       "    </tr>\n",
       "    <tr>\n",
       "      <th>351630</th>\n",
       "      <td>5384516</td>\n",
       "      <td>2008</td>\n",
       "      <td>1</td>\n",
       "      <td>VEREADOR</td>\n",
       "      <td>MASCULINO</td>\n",
       "    </tr>\n",
       "  </tbody>\n",
       "</table>\n",
       "</div>"
      ],
      "text/plain": [
       "        ID_CANDIDATO  ANO_ELEICAO  NUM_TURNO DESCRICAO_CARGO DESCRICAO_SEXO\n",
       "351628       5384514         2008          1        VEREADOR      MASCULINO\n",
       "351629       5384515         2008          1        VEREADOR       FEMININO\n",
       "351630       5384516         2008          1        VEREADOR      MASCULINO"
      ]
     },
     "execution_count": 135,
     "metadata": {},
     "output_type": "execute_result"
    }
   ],
   "source": [
    "v_2008.tail(3)"
   ]
  },
  {
   "cell_type": "code",
   "execution_count": 136,
   "metadata": {},
   "outputs": [
    {
     "data": {
      "text/html": [
       "<div>\n",
       "<style scoped>\n",
       "    .dataframe tbody tr th:only-of-type {\n",
       "        vertical-align: middle;\n",
       "    }\n",
       "\n",
       "    .dataframe tbody tr th {\n",
       "        vertical-align: top;\n",
       "    }\n",
       "\n",
       "    .dataframe thead th {\n",
       "        text-align: right;\n",
       "    }\n",
       "</style>\n",
       "<table border=\"1\" class=\"dataframe\">\n",
       "  <thead>\n",
       "    <tr style=\"text-align: right;\">\n",
       "      <th></th>\n",
       "      <th>ID_CANDIDATO</th>\n",
       "      <th>ANO_ELEICAO</th>\n",
       "      <th>NUM_TURNO</th>\n",
       "      <th>DESCRICAO_CARGO</th>\n",
       "      <th>DESCRICAO_SEXO</th>\n",
       "    </tr>\n",
       "  </thead>\n",
       "  <tbody>\n",
       "    <tr>\n",
       "      <th>0</th>\n",
       "      <td>7000000</td>\n",
       "      <td>2012</td>\n",
       "      <td>1</td>\n",
       "      <td>VEREADOR</td>\n",
       "      <td>FEMININO</td>\n",
       "    </tr>\n",
       "    <tr>\n",
       "      <th>1</th>\n",
       "      <td>7000001</td>\n",
       "      <td>2012</td>\n",
       "      <td>1</td>\n",
       "      <td>VEREADOR</td>\n",
       "      <td>MASCULINO</td>\n",
       "    </tr>\n",
       "    <tr>\n",
       "      <th>2</th>\n",
       "      <td>7000002</td>\n",
       "      <td>2012</td>\n",
       "      <td>1</td>\n",
       "      <td>VEREADOR</td>\n",
       "      <td>FEMININO</td>\n",
       "    </tr>\n",
       "  </tbody>\n",
       "</table>\n",
       "</div>"
      ],
      "text/plain": [
       "   ID_CANDIDATO  ANO_ELEICAO  NUM_TURNO DESCRICAO_CARGO DESCRICAO_SEXO\n",
       "0       7000000         2012          1        VEREADOR       FEMININO\n",
       "1       7000001         2012          1        VEREADOR      MASCULINO\n",
       "2       7000002         2012          1        VEREADOR       FEMININO"
      ]
     },
     "execution_count": 136,
     "metadata": {},
     "output_type": "execute_result"
    }
   ],
   "source": [
    "v_2012.head(3)"
   ]
  },
  {
   "cell_type": "code",
   "execution_count": 137,
   "metadata": {},
   "outputs": [
    {
     "data": {
      "text/html": [
       "<div>\n",
       "<style scoped>\n",
       "    .dataframe tbody tr th:only-of-type {\n",
       "        vertical-align: middle;\n",
       "    }\n",
       "\n",
       "    .dataframe tbody tr th {\n",
       "        vertical-align: top;\n",
       "    }\n",
       "\n",
       "    .dataframe thead th {\n",
       "        text-align: right;\n",
       "    }\n",
       "</style>\n",
       "<table border=\"1\" class=\"dataframe\">\n",
       "  <thead>\n",
       "    <tr style=\"text-align: right;\">\n",
       "      <th></th>\n",
       "      <th>ID_CANDIDATO</th>\n",
       "      <th>ANO_ELEICAO</th>\n",
       "      <th>NUM_TURNO</th>\n",
       "      <th>DESCRICAO_CARGO</th>\n",
       "      <th>DESCRICAO_SEXO</th>\n",
       "    </tr>\n",
       "  </thead>\n",
       "  <tbody>\n",
       "    <tr>\n",
       "      <th>447723</th>\n",
       "      <td>7479420</td>\n",
       "      <td>2012</td>\n",
       "      <td>1</td>\n",
       "      <td>VEREADOR</td>\n",
       "      <td>FEMININO</td>\n",
       "    </tr>\n",
       "    <tr>\n",
       "      <th>447724</th>\n",
       "      <td>7479436</td>\n",
       "      <td>2012</td>\n",
       "      <td>1</td>\n",
       "      <td>VEREADOR</td>\n",
       "      <td>MASCULINO</td>\n",
       "    </tr>\n",
       "    <tr>\n",
       "      <th>447725</th>\n",
       "      <td>7479437</td>\n",
       "      <td>2012</td>\n",
       "      <td>1</td>\n",
       "      <td>VEREADOR</td>\n",
       "      <td>MASCULINO</td>\n",
       "    </tr>\n",
       "  </tbody>\n",
       "</table>\n",
       "</div>"
      ],
      "text/plain": [
       "        ID_CANDIDATO  ANO_ELEICAO  NUM_TURNO DESCRICAO_CARGO DESCRICAO_SEXO\n",
       "447723       7479420         2012          1        VEREADOR       FEMININO\n",
       "447724       7479436         2012          1        VEREADOR      MASCULINO\n",
       "447725       7479437         2012          1        VEREADOR      MASCULINO"
      ]
     },
     "execution_count": 137,
     "metadata": {},
     "output_type": "execute_result"
    }
   ],
   "source": [
    "v_2012.tail(3)"
   ]
  },
  {
   "cell_type": "code",
   "execution_count": 138,
   "metadata": {},
   "outputs": [
    {
     "data": {
      "text/html": [
       "<div>\n",
       "<style scoped>\n",
       "    .dataframe tbody tr th:only-of-type {\n",
       "        vertical-align: middle;\n",
       "    }\n",
       "\n",
       "    .dataframe tbody tr th {\n",
       "        vertical-align: top;\n",
       "    }\n",
       "\n",
       "    .dataframe thead th {\n",
       "        text-align: right;\n",
       "    }\n",
       "</style>\n",
       "<table border=\"1\" class=\"dataframe\">\n",
       "  <thead>\n",
       "    <tr style=\"text-align: right;\">\n",
       "      <th></th>\n",
       "      <th>ID_CANDIDATO</th>\n",
       "      <th>ANO_ELEICAO</th>\n",
       "      <th>NUM_TURNO</th>\n",
       "      <th>DESCRICAO_CARGO</th>\n",
       "      <th>DESCRICAO_SEXO</th>\n",
       "    </tr>\n",
       "  </thead>\n",
       "  <tbody>\n",
       "    <tr>\n",
       "      <th>0</th>\n",
       "      <td>9000000</td>\n",
       "      <td>2016</td>\n",
       "      <td>1</td>\n",
       "      <td>VEREADOR</td>\n",
       "      <td>FEMININO</td>\n",
       "    </tr>\n",
       "    <tr>\n",
       "      <th>1</th>\n",
       "      <td>9000001</td>\n",
       "      <td>2016</td>\n",
       "      <td>1</td>\n",
       "      <td>VEREADOR</td>\n",
       "      <td>MASCULINO</td>\n",
       "    </tr>\n",
       "    <tr>\n",
       "      <th>2</th>\n",
       "      <td>9000002</td>\n",
       "      <td>2016</td>\n",
       "      <td>1</td>\n",
       "      <td>VEREADOR</td>\n",
       "      <td>MASCULINO</td>\n",
       "    </tr>\n",
       "  </tbody>\n",
       "</table>\n",
       "</div>"
      ],
      "text/plain": [
       "   ID_CANDIDATO  ANO_ELEICAO  NUM_TURNO DESCRICAO_CARGO DESCRICAO_SEXO\n",
       "0       9000000         2016          1        VEREADOR       FEMININO\n",
       "1       9000001         2016          1        VEREADOR      MASCULINO\n",
       "2       9000002         2016          1        VEREADOR      MASCULINO"
      ]
     },
     "execution_count": 138,
     "metadata": {},
     "output_type": "execute_result"
    }
   ],
   "source": [
    "v_2016.head(3)"
   ]
  },
  {
   "cell_type": "code",
   "execution_count": 139,
   "metadata": {},
   "outputs": [
    {
     "data": {
      "text/html": [
       "<div>\n",
       "<style scoped>\n",
       "    .dataframe tbody tr th:only-of-type {\n",
       "        vertical-align: middle;\n",
       "    }\n",
       "\n",
       "    .dataframe tbody tr th {\n",
       "        vertical-align: top;\n",
       "    }\n",
       "\n",
       "    .dataframe thead th {\n",
       "        text-align: right;\n",
       "    }\n",
       "</style>\n",
       "<table border=\"1\" class=\"dataframe\">\n",
       "  <thead>\n",
       "    <tr style=\"text-align: right;\">\n",
       "      <th></th>\n",
       "      <th>ID_CANDIDATO</th>\n",
       "      <th>ANO_ELEICAO</th>\n",
       "      <th>NUM_TURNO</th>\n",
       "      <th>DESCRICAO_CARGO</th>\n",
       "      <th>DESCRICAO_SEXO</th>\n",
       "    </tr>\n",
       "  </thead>\n",
       "  <tbody>\n",
       "    <tr>\n",
       "      <th>461898</th>\n",
       "      <td>9494920</td>\n",
       "      <td>2016</td>\n",
       "      <td>1</td>\n",
       "      <td>VEREADOR</td>\n",
       "      <td>FEMININO</td>\n",
       "    </tr>\n",
       "    <tr>\n",
       "      <th>461899</th>\n",
       "      <td>9494921</td>\n",
       "      <td>2016</td>\n",
       "      <td>1</td>\n",
       "      <td>VEREADOR</td>\n",
       "      <td>MASCULINO</td>\n",
       "    </tr>\n",
       "    <tr>\n",
       "      <th>461900</th>\n",
       "      <td>9494922</td>\n",
       "      <td>2016</td>\n",
       "      <td>1</td>\n",
       "      <td>VEREADOR</td>\n",
       "      <td>FEMININO</td>\n",
       "    </tr>\n",
       "  </tbody>\n",
       "</table>\n",
       "</div>"
      ],
      "text/plain": [
       "        ID_CANDIDATO  ANO_ELEICAO  NUM_TURNO DESCRICAO_CARGO DESCRICAO_SEXO\n",
       "461898       9494920         2016          1        VEREADOR       FEMININO\n",
       "461899       9494921         2016          1        VEREADOR      MASCULINO\n",
       "461900       9494922         2016          1        VEREADOR       FEMININO"
      ]
     },
     "execution_count": 139,
     "metadata": {},
     "output_type": "execute_result"
    }
   ],
   "source": [
    "v_2016.tail(3)"
   ]
  },
  {
   "cell_type": "code",
   "execution_count": 140,
   "metadata": {},
   "outputs": [
    {
     "data": {
      "text/html": [
       "<div>\n",
       "<style scoped>\n",
       "    .dataframe tbody tr th:only-of-type {\n",
       "        vertical-align: middle;\n",
       "    }\n",
       "\n",
       "    .dataframe tbody tr th {\n",
       "        vertical-align: top;\n",
       "    }\n",
       "\n",
       "    .dataframe thead th {\n",
       "        text-align: right;\n",
       "    }\n",
       "</style>\n",
       "<table border=\"1\" class=\"dataframe\">\n",
       "  <thead>\n",
       "    <tr style=\"text-align: right;\">\n",
       "      <th></th>\n",
       "      <th>ID_CANDIDATO</th>\n",
       "      <th>ANO_ELEICAO</th>\n",
       "      <th>NUM_TURNO</th>\n",
       "      <th>DESCRICAO_CARGO</th>\n",
       "      <th>DESCRICAO_SEXO</th>\n",
       "    </tr>\n",
       "  </thead>\n",
       "  <tbody>\n",
       "    <tr>\n",
       "      <th>0</th>\n",
       "      <td>3000000</td>\n",
       "      <td>2004</td>\n",
       "      <td>1</td>\n",
       "      <td>PREFEITO</td>\n",
       "      <td>MASCULINO</td>\n",
       "    </tr>\n",
       "    <tr>\n",
       "      <th>1</th>\n",
       "      <td>3000001</td>\n",
       "      <td>2004</td>\n",
       "      <td>1</td>\n",
       "      <td>PREFEITO</td>\n",
       "      <td>MASCULINO</td>\n",
       "    </tr>\n",
       "    <tr>\n",
       "      <th>2</th>\n",
       "      <td>3000002</td>\n",
       "      <td>2004</td>\n",
       "      <td>1</td>\n",
       "      <td>PREFEITO</td>\n",
       "      <td>MASCULINO</td>\n",
       "    </tr>\n",
       "  </tbody>\n",
       "</table>\n",
       "</div>"
      ],
      "text/plain": [
       "   ID_CANDIDATO  ANO_ELEICAO  NUM_TURNO DESCRICAO_CARGO DESCRICAO_SEXO\n",
       "0       3000000         2004          1        PREFEITO      MASCULINO\n",
       "1       3000001         2004          1        PREFEITO      MASCULINO\n",
       "2       3000002         2004          1        PREFEITO      MASCULINO"
      ]
     },
     "execution_count": 140,
     "metadata": {},
     "output_type": "execute_result"
    }
   ],
   "source": [
    "p_2004.head(3)"
   ]
  },
  {
   "cell_type": "code",
   "execution_count": 141,
   "metadata": {},
   "outputs": [
    {
     "data": {
      "text/html": [
       "<div>\n",
       "<style scoped>\n",
       "    .dataframe tbody tr th:only-of-type {\n",
       "        vertical-align: middle;\n",
       "    }\n",
       "\n",
       "    .dataframe tbody tr th {\n",
       "        vertical-align: top;\n",
       "    }\n",
       "\n",
       "    .dataframe thead th {\n",
       "        text-align: right;\n",
       "    }\n",
       "</style>\n",
       "<table border=\"1\" class=\"dataframe\">\n",
       "  <thead>\n",
       "    <tr style=\"text-align: right;\">\n",
       "      <th></th>\n",
       "      <th>ID_CANDIDATO</th>\n",
       "      <th>ANO_ELEICAO</th>\n",
       "      <th>NUM_TURNO</th>\n",
       "      <th>DESCRICAO_CARGO</th>\n",
       "      <th>DESCRICAO_SEXO</th>\n",
       "    </tr>\n",
       "  </thead>\n",
       "  <tbody>\n",
       "    <tr>\n",
       "      <th>16092</th>\n",
       "      <td>3399822</td>\n",
       "      <td>2004</td>\n",
       "      <td>1</td>\n",
       "      <td>PREFEITO</td>\n",
       "      <td>FEMININO</td>\n",
       "    </tr>\n",
       "    <tr>\n",
       "      <th>16093</th>\n",
       "      <td>3399823</td>\n",
       "      <td>2004</td>\n",
       "      <td>1</td>\n",
       "      <td>PREFEITO</td>\n",
       "      <td>MASCULINO</td>\n",
       "    </tr>\n",
       "    <tr>\n",
       "      <th>16094</th>\n",
       "      <td>3399824</td>\n",
       "      <td>2004</td>\n",
       "      <td>1</td>\n",
       "      <td>PREFEITO</td>\n",
       "      <td>MASCULINO</td>\n",
       "    </tr>\n",
       "  </tbody>\n",
       "</table>\n",
       "</div>"
      ],
      "text/plain": [
       "       ID_CANDIDATO  ANO_ELEICAO  NUM_TURNO DESCRICAO_CARGO DESCRICAO_SEXO\n",
       "16092       3399822         2004          1        PREFEITO       FEMININO\n",
       "16093       3399823         2004          1        PREFEITO      MASCULINO\n",
       "16094       3399824         2004          1        PREFEITO      MASCULINO"
      ]
     },
     "execution_count": 141,
     "metadata": {},
     "output_type": "execute_result"
    }
   ],
   "source": [
    "p_2004.tail(3)"
   ]
  },
  {
   "cell_type": "code",
   "execution_count": 142,
   "metadata": {},
   "outputs": [
    {
     "data": {
      "text/html": [
       "<div>\n",
       "<style scoped>\n",
       "    .dataframe tbody tr th:only-of-type {\n",
       "        vertical-align: middle;\n",
       "    }\n",
       "\n",
       "    .dataframe tbody tr th {\n",
       "        vertical-align: top;\n",
       "    }\n",
       "\n",
       "    .dataframe thead th {\n",
       "        text-align: right;\n",
       "    }\n",
       "</style>\n",
       "<table border=\"1\" class=\"dataframe\">\n",
       "  <thead>\n",
       "    <tr style=\"text-align: right;\">\n",
       "      <th></th>\n",
       "      <th>ID_CANDIDATO</th>\n",
       "      <th>ANO_ELEICAO</th>\n",
       "      <th>NUM_TURNO</th>\n",
       "      <th>DESCRICAO_CARGO</th>\n",
       "      <th>DESCRICAO_SEXO</th>\n",
       "    </tr>\n",
       "  </thead>\n",
       "  <tbody>\n",
       "    <tr>\n",
       "      <th>0</th>\n",
       "      <td>5000000</td>\n",
       "      <td>2008</td>\n",
       "      <td>1</td>\n",
       "      <td>PREFEITO</td>\n",
       "      <td>MASCULINO</td>\n",
       "    </tr>\n",
       "    <tr>\n",
       "      <th>1</th>\n",
       "      <td>5000001</td>\n",
       "      <td>2008</td>\n",
       "      <td>1</td>\n",
       "      <td>PREFEITO</td>\n",
       "      <td>MASCULINO</td>\n",
       "    </tr>\n",
       "    <tr>\n",
       "      <th>2</th>\n",
       "      <td>5000002</td>\n",
       "      <td>2008</td>\n",
       "      <td>1</td>\n",
       "      <td>PREFEITO</td>\n",
       "      <td>MASCULINO</td>\n",
       "    </tr>\n",
       "  </tbody>\n",
       "</table>\n",
       "</div>"
      ],
      "text/plain": [
       "   ID_CANDIDATO  ANO_ELEICAO  NUM_TURNO DESCRICAO_CARGO DESCRICAO_SEXO\n",
       "0       5000000         2008          1        PREFEITO      MASCULINO\n",
       "1       5000001         2008          1        PREFEITO      MASCULINO\n",
       "2       5000002         2008          1        PREFEITO      MASCULINO"
      ]
     },
     "execution_count": 142,
     "metadata": {},
     "output_type": "execute_result"
    }
   ],
   "source": [
    "p_2008.head(3)"
   ]
  },
  {
   "cell_type": "code",
   "execution_count": 143,
   "metadata": {},
   "outputs": [
    {
     "data": {
      "text/html": [
       "<div>\n",
       "<style scoped>\n",
       "    .dataframe tbody tr th:only-of-type {\n",
       "        vertical-align: middle;\n",
       "    }\n",
       "\n",
       "    .dataframe tbody tr th {\n",
       "        vertical-align: top;\n",
       "    }\n",
       "\n",
       "    .dataframe thead th {\n",
       "        text-align: right;\n",
       "    }\n",
       "</style>\n",
       "<table border=\"1\" class=\"dataframe\">\n",
       "  <thead>\n",
       "    <tr style=\"text-align: right;\">\n",
       "      <th></th>\n",
       "      <th>ID_CANDIDATO</th>\n",
       "      <th>ANO_ELEICAO</th>\n",
       "      <th>NUM_TURNO</th>\n",
       "      <th>DESCRICAO_CARGO</th>\n",
       "      <th>DESCRICAO_SEXO</th>\n",
       "    </tr>\n",
       "  </thead>\n",
       "  <tbody>\n",
       "    <tr>\n",
       "      <th>16216</th>\n",
       "      <td>5384523</td>\n",
       "      <td>2008</td>\n",
       "      <td>1</td>\n",
       "      <td>PREFEITO</td>\n",
       "      <td>FEMININO</td>\n",
       "    </tr>\n",
       "    <tr>\n",
       "      <th>16217</th>\n",
       "      <td>5384528</td>\n",
       "      <td>2008</td>\n",
       "      <td>1</td>\n",
       "      <td>PREFEITO</td>\n",
       "      <td>MASCULINO</td>\n",
       "    </tr>\n",
       "    <tr>\n",
       "      <th>16218</th>\n",
       "      <td>5384529</td>\n",
       "      <td>2008</td>\n",
       "      <td>1</td>\n",
       "      <td>PREFEITO</td>\n",
       "      <td>FEMININO</td>\n",
       "    </tr>\n",
       "  </tbody>\n",
       "</table>\n",
       "</div>"
      ],
      "text/plain": [
       "       ID_CANDIDATO  ANO_ELEICAO  NUM_TURNO DESCRICAO_CARGO DESCRICAO_SEXO\n",
       "16216       5384523         2008          1        PREFEITO       FEMININO\n",
       "16217       5384528         2008          1        PREFEITO      MASCULINO\n",
       "16218       5384529         2008          1        PREFEITO       FEMININO"
      ]
     },
     "execution_count": 143,
     "metadata": {},
     "output_type": "execute_result"
    }
   ],
   "source": [
    "p_2008.tail(3)"
   ]
  },
  {
   "cell_type": "code",
   "execution_count": 144,
   "metadata": {},
   "outputs": [
    {
     "data": {
      "text/html": [
       "<div>\n",
       "<style scoped>\n",
       "    .dataframe tbody tr th:only-of-type {\n",
       "        vertical-align: middle;\n",
       "    }\n",
       "\n",
       "    .dataframe tbody tr th {\n",
       "        vertical-align: top;\n",
       "    }\n",
       "\n",
       "    .dataframe thead th {\n",
       "        text-align: right;\n",
       "    }\n",
       "</style>\n",
       "<table border=\"1\" class=\"dataframe\">\n",
       "  <thead>\n",
       "    <tr style=\"text-align: right;\">\n",
       "      <th></th>\n",
       "      <th>ID_CANDIDATO</th>\n",
       "      <th>ANO_ELEICAO</th>\n",
       "      <th>NUM_TURNO</th>\n",
       "      <th>DESCRICAO_CARGO</th>\n",
       "      <th>DESCRICAO_SEXO</th>\n",
       "    </tr>\n",
       "  </thead>\n",
       "  <tbody>\n",
       "    <tr>\n",
       "      <th>0</th>\n",
       "      <td>7000009</td>\n",
       "      <td>2012</td>\n",
       "      <td>1</td>\n",
       "      <td>PREFEITO</td>\n",
       "      <td>FEMININO</td>\n",
       "    </tr>\n",
       "    <tr>\n",
       "      <th>1</th>\n",
       "      <td>7000029</td>\n",
       "      <td>2012</td>\n",
       "      <td>1</td>\n",
       "      <td>PREFEITO</td>\n",
       "      <td>MASCULINO</td>\n",
       "    </tr>\n",
       "    <tr>\n",
       "      <th>2</th>\n",
       "      <td>7000051</td>\n",
       "      <td>2012</td>\n",
       "      <td>1</td>\n",
       "      <td>PREFEITO</td>\n",
       "      <td>MASCULINO</td>\n",
       "    </tr>\n",
       "  </tbody>\n",
       "</table>\n",
       "</div>"
      ],
      "text/plain": [
       "   ID_CANDIDATO  ANO_ELEICAO  NUM_TURNO DESCRICAO_CARGO DESCRICAO_SEXO\n",
       "0       7000009         2012          1        PREFEITO       FEMININO\n",
       "1       7000029         2012          1        PREFEITO      MASCULINO\n",
       "2       7000051         2012          1        PREFEITO      MASCULINO"
      ]
     },
     "execution_count": 144,
     "metadata": {},
     "output_type": "execute_result"
    }
   ],
   "source": [
    "p_2012.head(3)"
   ]
  },
  {
   "cell_type": "code",
   "execution_count": 145,
   "metadata": {},
   "outputs": [
    {
     "data": {
      "text/html": [
       "<div>\n",
       "<style scoped>\n",
       "    .dataframe tbody tr th:only-of-type {\n",
       "        vertical-align: middle;\n",
       "    }\n",
       "\n",
       "    .dataframe tbody tr th {\n",
       "        vertical-align: top;\n",
       "    }\n",
       "\n",
       "    .dataframe thead th {\n",
       "        text-align: right;\n",
       "    }\n",
       "</style>\n",
       "<table border=\"1\" class=\"dataframe\">\n",
       "  <thead>\n",
       "    <tr style=\"text-align: right;\">\n",
       "      <th></th>\n",
       "      <th>ID_CANDIDATO</th>\n",
       "      <th>ANO_ELEICAO</th>\n",
       "      <th>NUM_TURNO</th>\n",
       "      <th>DESCRICAO_CARGO</th>\n",
       "      <th>DESCRICAO_SEXO</th>\n",
       "    </tr>\n",
       "  </thead>\n",
       "  <tbody>\n",
       "    <tr>\n",
       "      <th>15921</th>\n",
       "      <td>7479443</td>\n",
       "      <td>2012</td>\n",
       "      <td>1</td>\n",
       "      <td>PREFEITO</td>\n",
       "      <td>MASCULINO</td>\n",
       "    </tr>\n",
       "    <tr>\n",
       "      <th>15922</th>\n",
       "      <td>7479444</td>\n",
       "      <td>2012</td>\n",
       "      <td>1</td>\n",
       "      <td>PREFEITO</td>\n",
       "      <td>MASCULINO</td>\n",
       "    </tr>\n",
       "    <tr>\n",
       "      <th>15923</th>\n",
       "      <td>7479445</td>\n",
       "      <td>2012</td>\n",
       "      <td>1</td>\n",
       "      <td>PREFEITO</td>\n",
       "      <td>FEMININO</td>\n",
       "    </tr>\n",
       "  </tbody>\n",
       "</table>\n",
       "</div>"
      ],
      "text/plain": [
       "       ID_CANDIDATO  ANO_ELEICAO  NUM_TURNO DESCRICAO_CARGO DESCRICAO_SEXO\n",
       "15921       7479443         2012          1        PREFEITO      MASCULINO\n",
       "15922       7479444         2012          1        PREFEITO      MASCULINO\n",
       "15923       7479445         2012          1        PREFEITO       FEMININO"
      ]
     },
     "execution_count": 145,
     "metadata": {},
     "output_type": "execute_result"
    }
   ],
   "source": [
    "p_2012.tail(3)"
   ]
  },
  {
   "cell_type": "code",
   "execution_count": 146,
   "metadata": {},
   "outputs": [
    {
     "data": {
      "text/html": [
       "<div>\n",
       "<style scoped>\n",
       "    .dataframe tbody tr th:only-of-type {\n",
       "        vertical-align: middle;\n",
       "    }\n",
       "\n",
       "    .dataframe tbody tr th {\n",
       "        vertical-align: top;\n",
       "    }\n",
       "\n",
       "    .dataframe thead th {\n",
       "        text-align: right;\n",
       "    }\n",
       "</style>\n",
       "<table border=\"1\" class=\"dataframe\">\n",
       "  <thead>\n",
       "    <tr style=\"text-align: right;\">\n",
       "      <th></th>\n",
       "      <th>ID_CANDIDATO</th>\n",
       "      <th>ANO_ELEICAO</th>\n",
       "      <th>NUM_TURNO</th>\n",
       "      <th>DESCRICAO_CARGO</th>\n",
       "      <th>DESCRICAO_SEXO</th>\n",
       "    </tr>\n",
       "  </thead>\n",
       "  <tbody>\n",
       "    <tr>\n",
       "      <th>0</th>\n",
       "      <td>9000052</td>\n",
       "      <td>2016</td>\n",
       "      <td>1</td>\n",
       "      <td>PREFEITO</td>\n",
       "      <td>MASCULINO</td>\n",
       "    </tr>\n",
       "    <tr>\n",
       "      <th>1</th>\n",
       "      <td>9000116</td>\n",
       "      <td>2016</td>\n",
       "      <td>1</td>\n",
       "      <td>PREFEITO</td>\n",
       "      <td>FEMININO</td>\n",
       "    </tr>\n",
       "    <tr>\n",
       "      <th>2</th>\n",
       "      <td>9000130</td>\n",
       "      <td>2016</td>\n",
       "      <td>1</td>\n",
       "      <td>PREFEITO</td>\n",
       "      <td>MASCULINO</td>\n",
       "    </tr>\n",
       "  </tbody>\n",
       "</table>\n",
       "</div>"
      ],
      "text/plain": [
       "   ID_CANDIDATO  ANO_ELEICAO  NUM_TURNO DESCRICAO_CARGO DESCRICAO_SEXO\n",
       "0       9000052         2016          1        PREFEITO      MASCULINO\n",
       "1       9000116         2016          1        PREFEITO       FEMININO\n",
       "2       9000130         2016          1        PREFEITO      MASCULINO"
      ]
     },
     "execution_count": 146,
     "metadata": {},
     "output_type": "execute_result"
    }
   ],
   "source": [
    "p_2016.head(3)"
   ]
  },
  {
   "cell_type": "code",
   "execution_count": 147,
   "metadata": {},
   "outputs": [
    {
     "data": {
      "text/html": [
       "<div>\n",
       "<style scoped>\n",
       "    .dataframe tbody tr th:only-of-type {\n",
       "        vertical-align: middle;\n",
       "    }\n",
       "\n",
       "    .dataframe tbody tr th {\n",
       "        vertical-align: top;\n",
       "    }\n",
       "\n",
       "    .dataframe thead th {\n",
       "        text-align: right;\n",
       "    }\n",
       "</style>\n",
       "<table border=\"1\" class=\"dataframe\">\n",
       "  <thead>\n",
       "    <tr style=\"text-align: right;\">\n",
       "      <th></th>\n",
       "      <th>ID_CANDIDATO</th>\n",
       "      <th>ANO_ELEICAO</th>\n",
       "      <th>NUM_TURNO</th>\n",
       "      <th>DESCRICAO_CARGO</th>\n",
       "      <th>DESCRICAO_SEXO</th>\n",
       "    </tr>\n",
       "  </thead>\n",
       "  <tbody>\n",
       "    <tr>\n",
       "      <th>16538</th>\n",
       "      <td>9494900</td>\n",
       "      <td>2016</td>\n",
       "      <td>1</td>\n",
       "      <td>PREFEITO</td>\n",
       "      <td>FEMININO</td>\n",
       "    </tr>\n",
       "    <tr>\n",
       "      <th>16539</th>\n",
       "      <td>9494908</td>\n",
       "      <td>2016</td>\n",
       "      <td>1</td>\n",
       "      <td>PREFEITO</td>\n",
       "      <td>MASCULINO</td>\n",
       "    </tr>\n",
       "    <tr>\n",
       "      <th>16540</th>\n",
       "      <td>9494923</td>\n",
       "      <td>2016</td>\n",
       "      <td>1</td>\n",
       "      <td>PREFEITO</td>\n",
       "      <td>FEMININO</td>\n",
       "    </tr>\n",
       "  </tbody>\n",
       "</table>\n",
       "</div>"
      ],
      "text/plain": [
       "       ID_CANDIDATO  ANO_ELEICAO  NUM_TURNO DESCRICAO_CARGO DESCRICAO_SEXO\n",
       "16538       9494900         2016          1        PREFEITO       FEMININO\n",
       "16539       9494908         2016          1        PREFEITO      MASCULINO\n",
       "16540       9494923         2016          1        PREFEITO       FEMININO"
      ]
     },
     "execution_count": 147,
     "metadata": {},
     "output_type": "execute_result"
    }
   ],
   "source": [
    "p_2016.tail(3)"
   ]
  },
  {
   "cell_type": "markdown",
   "metadata": {},
   "source": [
    "Em seguida, contabilizar as candidaturas de mulheres ao cargo de vereador e prefeito."
   ]
  },
  {
   "cell_type": "code",
   "execution_count": 148,
   "metadata": {},
   "outputs": [],
   "source": [
    "v_2004_mul = v_2004.query(\"DESCRICAO_SEXO == 'FEMININO'\")['DESCRICAO_SEXO'].count()\n",
    "v_2008_mul = v_2008.query(\"DESCRICAO_SEXO == 'FEMININO'\")['DESCRICAO_SEXO'].count()\n",
    "v_2012_mul = v_2012.query(\"DESCRICAO_SEXO == 'FEMININO'\")['DESCRICAO_SEXO'].count()\n",
    "v_2016_mul = v_2016.query(\"DESCRICAO_SEXO == 'FEMININO'\")['DESCRICAO_SEXO'].count()\n",
    "\n",
    "p_2004_mul = p_2004.query(\"DESCRICAO_SEXO == 'FEMININO'\")['DESCRICAO_SEXO'].count()\n",
    "p_2008_mul = p_2008.query(\"DESCRICAO_SEXO == 'FEMININO'\")['DESCRICAO_SEXO'].count()\n",
    "p_2012_mul = p_2012.query(\"DESCRICAO_SEXO == 'FEMININO'\")['DESCRICAO_SEXO'].count()\n",
    "p_2016_mul = p_2016.query(\"DESCRICAO_SEXO == 'FEMININO'\")['DESCRICAO_SEXO'].count()"
   ]
  },
  {
   "cell_type": "code",
   "execution_count": 149,
   "metadata": {},
   "outputs": [
    {
     "name": "stdout",
     "output_type": "stream",
     "text": [
      "81048\n",
      "77436\n",
      "146169\n",
      "152580\n",
      "1531\n",
      "1798\n",
      "2130\n",
      "2150\n"
     ]
    }
   ],
   "source": [
    "print(v_2004_mul)\n",
    "print(v_2008_mul)\n",
    "print(v_2012_mul)\n",
    "print(v_2016_mul)\n",
    "\n",
    "print(p_2004_mul)\n",
    "print(p_2008_mul)\n",
    "print(p_2012_mul)\n",
    "print(p_2016_mul)"
   ]
  },
  {
   "cell_type": "markdown",
   "metadata": {},
   "source": [
    "Depois, contabilizar as candidaturas de homens ao cargo de vereador e prefeito."
   ]
  },
  {
   "cell_type": "code",
   "execution_count": 150,
   "metadata": {},
   "outputs": [],
   "source": [
    "v_2004_hom = v_2004.query(\"DESCRICAO_SEXO == 'MASCULINO'\")['DESCRICAO_SEXO'].count()\n",
    "v_2008_hom = v_2008.query(\"DESCRICAO_SEXO == 'MASCULINO'\")['DESCRICAO_SEXO'].count()\n",
    "v_2012_hom = v_2012.query(\"DESCRICAO_SEXO == 'MASCULINO'\")['DESCRICAO_SEXO'].count()\n",
    "v_2016_hom = v_2016.query(\"DESCRICAO_SEXO == 'MASCULINO'\")['DESCRICAO_SEXO'].count()\n",
    "\n",
    "p_2004_hom = p_2004.query(\"DESCRICAO_SEXO == 'MASCULINO'\")['DESCRICAO_SEXO'].count()\n",
    "p_2008_hom = p_2008.query(\"DESCRICAO_SEXO == 'MASCULINO'\")['DESCRICAO_SEXO'].count()\n",
    "p_2012_hom = p_2012.query(\"DESCRICAO_SEXO == 'MASCULINO'\")['DESCRICAO_SEXO'].count()\n",
    "p_2016_hom = p_2016.query(\"DESCRICAO_SEXO == 'MASCULINO'\")['DESCRICAO_SEXO'].count()"
   ]
  },
  {
   "cell_type": "code",
   "execution_count": 151,
   "metadata": {},
   "outputs": [
    {
     "name": "stdout",
     "output_type": "stream",
     "text": [
      "286433\n",
      "274194\n",
      "301557\n",
      "309321\n",
      "14561\n",
      "14421\n",
      "13794\n",
      "14391\n"
     ]
    }
   ],
   "source": [
    "print(v_2004_hom)\n",
    "print(v_2008_hom)\n",
    "print(v_2012_hom)\n",
    "print(v_2016_hom)\n",
    "\n",
    "print(p_2004_hom)\n",
    "print(p_2008_hom)\n",
    "print(p_2012_hom)\n",
    "print(p_2016_hom)"
   ]
  },
  {
   "cell_type": "markdown",
   "metadata": {},
   "source": [
    "Abaixo, é montado dataframes analisando a diferença da quantidade de candidaturas:"
   ]
  },
  {
   "cell_type": "code",
   "execution_count": 158,
   "metadata": {},
   "outputs": [
    {
     "name": "stdout",
     "output_type": "stream",
     "text": [
      "Análise Candidatura Vereadores\n",
      "    Ano  Mulheres  Homens   Total  % Mulheres   % Homens\n",
      "0  2004     81048  286433  367481   22.055018  77.944982\n",
      "1  2008     77436  274194  351630   22.022012  77.977988\n",
      "2  2012    146169  301557  447726   32.646976  67.353024\n",
      "3  2016    152580  309321  461901   33.033053  66.966947\n",
      "\n",
      "\n",
      "Análise Candidatura Prefeitos\n",
      "    Ano  Mulheres  Homens  Total  % Mulheres   % Homens\n",
      "0  2004      1531   14561  16092    9.514044  90.485956\n",
      "1  2008      1798   14421  16219   11.085764  88.914236\n",
      "2  2012      2130   13794  15924   13.376036  86.623964\n",
      "3  2016      2150   14391  16541   12.998005  87.001995\n"
     ]
    }
   ],
   "source": [
    "#Dataframe de candidaturas a vereador\n",
    "df_v = pd.DataFrame({\n",
    "    'Ano': ['2004', '2008', '2012', '2016'],\n",
    "    'Mulheres': [v_2004_mul, v_2008_mul, v_2012_mul, v_2016_mul],\n",
    "    'Homens': [v_2004_hom, v_2008_hom, v_2012_hom, v_2016_hom],\n",
    "})\n",
    "\n",
    "df_v['Total'] = df_v.sum(axis=1)\n",
    "\n",
    "df_v['% Mulheres'] = df_v['Mulheres']/df_v['Total']*100\n",
    "df_v['% Homens'] = df_v['Homens']/df_v['Total']*100\n",
    "\n",
    "#Dataframe de candidaturas a prefeito\n",
    "df_p = pd.DataFrame({\n",
    "    'Ano': ['2004', '2008', '2012', '2016'],\n",
    "    'Mulheres': [p_2004_mul, p_2008_mul, p_2012_mul, p_2016_mul],\n",
    "    'Homens': [p_2004_hom, p_2008_hom, p_2012_hom, p_2016_hom],\n",
    "})\n",
    "\n",
    "df_p['Total'] = df_p.sum(axis=1)\n",
    "\n",
    "df_p['% Mulheres'] = df_p['Mulheres']/df_p['Total']*100\n",
    "df_p['% Homens'] = df_p['Homens']/df_p['Total']*100\n",
    "\n",
    "print('Análise Candidatura Vereadores')\n",
    "print(df_v)\n",
    "print('\\n')\n",
    "print('Análise Candidatura Prefeitos')\n",
    "print(df_p)"
   ]
  },
  {
   "cell_type": "markdown",
   "metadata": {},
   "source": [
    "Para melhor visualização, há gráficos para ilustrar a diferença:"
   ]
  },
  {
   "cell_type": "code",
   "execution_count": 159,
   "metadata": {},
   "outputs": [
    {
     "data": {
      "text/plain": [
       "Text(0.5, 1.0, 'Candidatos a Prefeito')"
      ]
     },
     "execution_count": 159,
     "metadata": {},
     "output_type": "execute_result"
    },
    {
     "data": {
      "image/png": "[encoded data removed]",
      "text/plain": [
       "<Figure size 576x360 with 1 Axes>"
      ]
     },
     "metadata": {
      "needs_background": "light"
     },
     "output_type": "display_data"
    },
    {
     "data": {
      "image/png": "[encoded data removed]",
      "text/plain": [
       "<Figure size 576x360 with 1 Axes>"
      ]
     },
     "metadata": {
      "needs_background": "light"
     },
     "output_type": "display_data"
    }
   ],
   "source": [
    "#Vereador\n",
    "df_v = df_v.drop([\"Mulheres\", \"Homens\", \"Total\"], axis=1)\n",
    "ax_v = df_v[[\"% Mulheres\", \"% Homens\"]].plot(kind = 'bar')\n",
    "ax_v.set_xticklabels(df[\"Ano\"])\n",
    "\n",
    "plt.rcParams['figure.figsize'] = (8,5)\n",
    "plt.title('Candidatos a Vereador')\n",
    "\n",
    "#Prefeito\n",
    "ax_p = df_p[[\"% Mulheres\", \"% Homens\"]].plot(kind = 'bar')\n",
    "ax_p.set_xticklabels(df[\"Ano\"])\n",
    "\n",
    "plt.rcParams['figure.figsize'] = (7,5)\n",
    "plt.title('Candidatos a Prefeito')"
   ]
  },
  {
   "cell_type": "code",
   "execution_count": null,
   "metadata": {},
   "outputs": [],
   "source": []
  }
 ],
 "metadata": {
  "kernelspec": {
   "display_name": "Python 3",
   "language": "python",
   "name": "python3"
  },
  "language_info": {
   "codemirror_mode": {
    "name": "ipython",
    "version": 3
   },
   "file_extension": ".py",
   "mimetype": "text/x-python",
   "name": "python",
   "nbconvert_exporter": "python",
   "pygments_lexer": "ipython3",
   "version": "3.6.9"
  }
 },
 "nbformat": 4,
 "nbformat_minor": 4
}
