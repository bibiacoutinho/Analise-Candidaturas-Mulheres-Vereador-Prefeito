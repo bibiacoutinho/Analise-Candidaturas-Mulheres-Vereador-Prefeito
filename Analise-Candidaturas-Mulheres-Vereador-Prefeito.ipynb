{
 "cells": [
  {
   "cell_type": "markdown",
   "metadata": {},
   "source": [
    "<h2>Análise da candidatura de mulheres ao cargo de Vereador X Prefeito, no Brasil, nas eleições de 2004 a 2016.</h2>\n"
   ]
  },
  {
   "cell_type": "markdown",
   "metadata": {},
   "source": [
    "Inicialmente, faremos a análise de candidaturas de mulheres ao cargo de vereador."
   ]
  },
  {
   "cell_type": "code",
   "execution_count": 1,
   "metadata": {},
   "outputs": [],
   "source": [
    "#Importação de bibliotecas\n",
    "%matplotlib inline\n",
    "import pandas as pd\n",
    "import matplotlib.pyplot as plt\n",
    "import numpy as np\n",
    "low_memory=False"
   ]
  },
  {
   "cell_type": "code",
   "execution_count": 2,
   "metadata": {},
   "outputs": [],
   "source": [
    "#Leitura dos arquivos\n",
    "v_2004 = pd.read_csv('/home/beatriz/Documentos/projetos/EP04/CANDIDATOS_VEREADOR_2004.csv', delimiter=',', encoding='iso-8859-1', usecols=['ID_CANDIDATO', 'ANO_ELEICAO', 'NUM_TURNO', 'DESCRICAO_CARGO', 'DESCRICAO_SEXO'])\n",
    "v_2008 = pd.read_csv('/home/beatriz/Documentos/projetos/EP04/CANDIDATOS_VEREADOR_2008.csv', delimiter=',', encoding='iso-8859-1', usecols=['ID_CANDIDATO', 'ANO_ELEICAO', 'NUM_TURNO', 'DESCRICAO_CARGO', 'DESCRICAO_SEXO'])\n",
    "v_2012 = pd.read_csv('/home/beatriz/Documentos/projetos/EP04/CANDIDATOS_VEREADOR_2012.csv', delimiter=',', encoding='iso-8859-1', usecols=['ID_CANDIDATO', 'ANO_ELEICAO', 'NUM_TURNO', 'DESCRICAO_CARGO', 'DESCRICAO_SEXO'])\n",
    "v_2016 = pd.read_csv('/home/beatriz/Documentos/projetos/EP04/CANDIDATOS_VEREADOR_2016.csv', delimiter=',', encoding='iso-8859-1', usecols=['ID_CANDIDATO', 'ANO_ELEICAO', 'NUM_TURNO', 'DESCRICAO_CARGO', 'DESCRICAO_SEXO'])"
   ]
  },
  {
   "cell_type": "markdown",
   "metadata": {},
   "source": [
    "Após a leitura, é preciso verificar se os dados foram inseridos corretamente, portanto foi utilizado o head() e tail(), para ver o início e final do dataframe, respectivamente."
   ]
  },
  {
   "cell_type": "code",
   "execution_count": 3,
   "metadata": {},
   "outputs": [
    {
     "data": {
      "text/html": [
       "<div>\n",
       "<style scoped>\n",
       "    .dataframe tbody tr th:only-of-type {\n",
       "        vertical-align: middle;\n",
       "    }\n",
       "\n",
       "    .dataframe tbody tr th {\n",
       "        vertical-align: top;\n",
       "    }\n",
       "\n",
       "    .dataframe thead th {\n",
       "        text-align: right;\n",
       "    }\n",
       "</style>\n",
       "<table border=\"1\" class=\"dataframe\">\n",
       "  <thead>\n",
       "    <tr style=\"text-align: right;\">\n",
       "      <th></th>\n",
       "      <th>ID_CANDIDATO</th>\n",
       "      <th>ANO_ELEICAO</th>\n",
       "      <th>NUM_TURNO</th>\n",
       "      <th>DESCRICAO_CARGO</th>\n",
       "      <th>DESCRICAO_SEXO</th>\n",
       "    </tr>\n",
       "  </thead>\n",
       "  <tbody>\n",
       "    <tr>\n",
       "      <th>0</th>\n",
       "      <td>3000006</td>\n",
       "      <td>2004</td>\n",
       "      <td>1</td>\n",
       "      <td>VEREADOR</td>\n",
       "      <td>MASCULINO</td>\n",
       "    </tr>\n",
       "    <tr>\n",
       "      <th>1</th>\n",
       "      <td>3000007</td>\n",
       "      <td>2004</td>\n",
       "      <td>1</td>\n",
       "      <td>VEREADOR</td>\n",
       "      <td>MASCULINO</td>\n",
       "    </tr>\n",
       "    <tr>\n",
       "      <th>2</th>\n",
       "      <td>3000008</td>\n",
       "      <td>2004</td>\n",
       "      <td>1</td>\n",
       "      <td>VEREADOR</td>\n",
       "      <td>MASCULINO</td>\n",
       "    </tr>\n",
       "  </tbody>\n",
       "</table>\n",
       "</div>"
      ],
      "text/plain": [
       "   ID_CANDIDATO  ANO_ELEICAO  NUM_TURNO DESCRICAO_CARGO DESCRICAO_SEXO\n",
       "0       3000006         2004          1        VEREADOR      MASCULINO\n",
       "1       3000007         2004          1        VEREADOR      MASCULINO\n",
       "2       3000008         2004          1        VEREADOR      MASCULINO"
      ]
     },
     "execution_count": 3,
     "metadata": {},
     "output_type": "execute_result"
    }
   ],
   "source": [
    "v_2004.head(3)"
   ]
  },
  {
   "cell_type": "code",
   "execution_count": 4,
   "metadata": {},
   "outputs": [
    {
     "data": {
      "text/html": [
       "<div>\n",
       "<style scoped>\n",
       "    .dataframe tbody tr th:only-of-type {\n",
       "        vertical-align: middle;\n",
       "    }\n",
       "\n",
       "    .dataframe tbody tr th {\n",
       "        vertical-align: top;\n",
       "    }\n",
       "\n",
       "    .dataframe thead th {\n",
       "        text-align: right;\n",
       "    }\n",
       "</style>\n",
       "<table border=\"1\" class=\"dataframe\">\n",
       "  <thead>\n",
       "    <tr style=\"text-align: right;\">\n",
       "      <th></th>\n",
       "      <th>ID_CANDIDATO</th>\n",
       "      <th>ANO_ELEICAO</th>\n",
       "      <th>NUM_TURNO</th>\n",
       "      <th>DESCRICAO_CARGO</th>\n",
       "      <th>DESCRICAO_SEXO</th>\n",
       "    </tr>\n",
       "  </thead>\n",
       "  <tbody>\n",
       "    <tr>\n",
       "      <th>367666</th>\n",
       "      <td>3399866</td>\n",
       "      <td>2004</td>\n",
       "      <td>1</td>\n",
       "      <td>VEREADOR</td>\n",
       "      <td>MASCULINO</td>\n",
       "    </tr>\n",
       "    <tr>\n",
       "      <th>367667</th>\n",
       "      <td>3399867</td>\n",
       "      <td>2004</td>\n",
       "      <td>1</td>\n",
       "      <td>VEREADOR</td>\n",
       "      <td>FEMININO</td>\n",
       "    </tr>\n",
       "    <tr>\n",
       "      <th>367668</th>\n",
       "      <td>3399868</td>\n",
       "      <td>2004</td>\n",
       "      <td>1</td>\n",
       "      <td>VEREADOR</td>\n",
       "      <td>FEMININO</td>\n",
       "    </tr>\n",
       "  </tbody>\n",
       "</table>\n",
       "</div>"
      ],
      "text/plain": [
       "        ID_CANDIDATO  ANO_ELEICAO  NUM_TURNO DESCRICAO_CARGO DESCRICAO_SEXO\n",
       "367666       3399866         2004          1        VEREADOR      MASCULINO\n",
       "367667       3399867         2004          1        VEREADOR       FEMININO\n",
       "367668       3399868         2004          1        VEREADOR       FEMININO"
      ]
     },
     "execution_count": 4,
     "metadata": {},
     "output_type": "execute_result"
    }
   ],
   "source": [
    "v_2004.tail(3)"
   ]
  },
  {
   "cell_type": "code",
   "execution_count": 5,
   "metadata": {},
   "outputs": [
    {
     "data": {
      "text/html": [
       "<div>\n",
       "<style scoped>\n",
       "    .dataframe tbody tr th:only-of-type {\n",
       "        vertical-align: middle;\n",
       "    }\n",
       "\n",
       "    .dataframe tbody tr th {\n",
       "        vertical-align: top;\n",
       "    }\n",
       "\n",
       "    .dataframe thead th {\n",
       "        text-align: right;\n",
       "    }\n",
       "</style>\n",
       "<table border=\"1\" class=\"dataframe\">\n",
       "  <thead>\n",
       "    <tr style=\"text-align: right;\">\n",
       "      <th></th>\n",
       "      <th>ID_CANDIDATO</th>\n",
       "      <th>ANO_ELEICAO</th>\n",
       "      <th>NUM_TURNO</th>\n",
       "      <th>DESCRICAO_CARGO</th>\n",
       "      <th>DESCRICAO_SEXO</th>\n",
       "    </tr>\n",
       "  </thead>\n",
       "  <tbody>\n",
       "    <tr>\n",
       "      <th>0</th>\n",
       "      <td>5000006</td>\n",
       "      <td>2008</td>\n",
       "      <td>1</td>\n",
       "      <td>VEREADOR</td>\n",
       "      <td>MASCULINO</td>\n",
       "    </tr>\n",
       "    <tr>\n",
       "      <th>1</th>\n",
       "      <td>5000007</td>\n",
       "      <td>2008</td>\n",
       "      <td>1</td>\n",
       "      <td>VEREADOR</td>\n",
       "      <td>MASCULINO</td>\n",
       "    </tr>\n",
       "    <tr>\n",
       "      <th>2</th>\n",
       "      <td>5000008</td>\n",
       "      <td>2008</td>\n",
       "      <td>1</td>\n",
       "      <td>VEREADOR</td>\n",
       "      <td>MASCULINO</td>\n",
       "    </tr>\n",
       "  </tbody>\n",
       "</table>\n",
       "</div>"
      ],
      "text/plain": [
       "   ID_CANDIDATO  ANO_ELEICAO  NUM_TURNO DESCRICAO_CARGO DESCRICAO_SEXO\n",
       "0       5000006         2008          1        VEREADOR      MASCULINO\n",
       "1       5000007         2008          1        VEREADOR      MASCULINO\n",
       "2       5000008         2008          1        VEREADOR      MASCULINO"
      ]
     },
     "execution_count": 5,
     "metadata": {},
     "output_type": "execute_result"
    }
   ],
   "source": [
    "v_2008.head(3)"
   ]
  },
  {
   "cell_type": "code",
   "execution_count": 6,
   "metadata": {},
   "outputs": [
    {
     "data": {
      "text/html": [
       "<div>\n",
       "<style scoped>\n",
       "    .dataframe tbody tr th:only-of-type {\n",
       "        vertical-align: middle;\n",
       "    }\n",
       "\n",
       "    .dataframe tbody tr th {\n",
       "        vertical-align: top;\n",
       "    }\n",
       "\n",
       "    .dataframe thead th {\n",
       "        text-align: right;\n",
       "    }\n",
       "</style>\n",
       "<table border=\"1\" class=\"dataframe\">\n",
       "  <thead>\n",
       "    <tr style=\"text-align: right;\">\n",
       "      <th></th>\n",
       "      <th>ID_CANDIDATO</th>\n",
       "      <th>ANO_ELEICAO</th>\n",
       "      <th>NUM_TURNO</th>\n",
       "      <th>DESCRICAO_CARGO</th>\n",
       "      <th>DESCRICAO_SEXO</th>\n",
       "    </tr>\n",
       "  </thead>\n",
       "  <tbody>\n",
       "    <tr>\n",
       "      <th>351628</th>\n",
       "      <td>5384514</td>\n",
       "      <td>2008</td>\n",
       "      <td>1</td>\n",
       "      <td>VEREADOR</td>\n",
       "      <td>MASCULINO</td>\n",
       "    </tr>\n",
       "    <tr>\n",
       "      <th>351629</th>\n",
       "      <td>5384515</td>\n",
       "      <td>2008</td>\n",
       "      <td>1</td>\n",
       "      <td>VEREADOR</td>\n",
       "      <td>FEMININO</td>\n",
       "    </tr>\n",
       "    <tr>\n",
       "      <th>351630</th>\n",
       "      <td>5384516</td>\n",
       "      <td>2008</td>\n",
       "      <td>1</td>\n",
       "      <td>VEREADOR</td>\n",
       "      <td>MASCULINO</td>\n",
       "    </tr>\n",
       "  </tbody>\n",
       "</table>\n",
       "</div>"
      ],
      "text/plain": [
       "        ID_CANDIDATO  ANO_ELEICAO  NUM_TURNO DESCRICAO_CARGO DESCRICAO_SEXO\n",
       "351628       5384514         2008          1        VEREADOR      MASCULINO\n",
       "351629       5384515         2008          1        VEREADOR       FEMININO\n",
       "351630       5384516         2008          1        VEREADOR      MASCULINO"
      ]
     },
     "execution_count": 6,
     "metadata": {},
     "output_type": "execute_result"
    }
   ],
   "source": [
    "v_2008.tail(3)"
   ]
  },
  {
   "cell_type": "code",
   "execution_count": 7,
   "metadata": {},
   "outputs": [
    {
     "data": {
      "text/html": [
       "<div>\n",
       "<style scoped>\n",
       "    .dataframe tbody tr th:only-of-type {\n",
       "        vertical-align: middle;\n",
       "    }\n",
       "\n",
       "    .dataframe tbody tr th {\n",
       "        vertical-align: top;\n",
       "    }\n",
       "\n",
       "    .dataframe thead th {\n",
       "        text-align: right;\n",
       "    }\n",
       "</style>\n",
       "<table border=\"1\" class=\"dataframe\">\n",
       "  <thead>\n",
       "    <tr style=\"text-align: right;\">\n",
       "      <th></th>\n",
       "      <th>ID_CANDIDATO</th>\n",
       "      <th>ANO_ELEICAO</th>\n",
       "      <th>NUM_TURNO</th>\n",
       "      <th>DESCRICAO_CARGO</th>\n",
       "      <th>DESCRICAO_SEXO</th>\n",
       "    </tr>\n",
       "  </thead>\n",
       "  <tbody>\n",
       "    <tr>\n",
       "      <th>0</th>\n",
       "      <td>7000000</td>\n",
       "      <td>2012</td>\n",
       "      <td>1</td>\n",
       "      <td>VEREADOR</td>\n",
       "      <td>FEMININO</td>\n",
       "    </tr>\n",
       "    <tr>\n",
       "      <th>1</th>\n",
       "      <td>7000001</td>\n",
       "      <td>2012</td>\n",
       "      <td>1</td>\n",
       "      <td>VEREADOR</td>\n",
       "      <td>MASCULINO</td>\n",
       "    </tr>\n",
       "    <tr>\n",
       "      <th>2</th>\n",
       "      <td>7000002</td>\n",
       "      <td>2012</td>\n",
       "      <td>1</td>\n",
       "      <td>VEREADOR</td>\n",
       "      <td>FEMININO</td>\n",
       "    </tr>\n",
       "  </tbody>\n",
       "</table>\n",
       "</div>"
      ],
      "text/plain": [
       "   ID_CANDIDATO  ANO_ELEICAO  NUM_TURNO DESCRICAO_CARGO DESCRICAO_SEXO\n",
       "0       7000000         2012          1        VEREADOR       FEMININO\n",
       "1       7000001         2012          1        VEREADOR      MASCULINO\n",
       "2       7000002         2012          1        VEREADOR       FEMININO"
      ]
     },
     "execution_count": 7,
     "metadata": {},
     "output_type": "execute_result"
    }
   ],
   "source": [
    "v_2012.head(3)"
   ]
  },
  {
   "cell_type": "code",
   "execution_count": 8,
   "metadata": {},
   "outputs": [
    {
     "data": {
      "text/html": [
       "<div>\n",
       "<style scoped>\n",
       "    .dataframe tbody tr th:only-of-type {\n",
       "        vertical-align: middle;\n",
       "    }\n",
       "\n",
       "    .dataframe tbody tr th {\n",
       "        vertical-align: top;\n",
       "    }\n",
       "\n",
       "    .dataframe thead th {\n",
       "        text-align: right;\n",
       "    }\n",
       "</style>\n",
       "<table border=\"1\" class=\"dataframe\">\n",
       "  <thead>\n",
       "    <tr style=\"text-align: right;\">\n",
       "      <th></th>\n",
       "      <th>ID_CANDIDATO</th>\n",
       "      <th>ANO_ELEICAO</th>\n",
       "      <th>NUM_TURNO</th>\n",
       "      <th>DESCRICAO_CARGO</th>\n",
       "      <th>DESCRICAO_SEXO</th>\n",
       "    </tr>\n",
       "  </thead>\n",
       "  <tbody>\n",
       "    <tr>\n",
       "      <th>447723</th>\n",
       "      <td>7479420</td>\n",
       "      <td>2012</td>\n",
       "      <td>1</td>\n",
       "      <td>VEREADOR</td>\n",
       "      <td>FEMININO</td>\n",
       "    </tr>\n",
       "    <tr>\n",
       "      <th>447724</th>\n",
       "      <td>7479436</td>\n",
       "      <td>2012</td>\n",
       "      <td>1</td>\n",
       "      <td>VEREADOR</td>\n",
       "      <td>MASCULINO</td>\n",
       "    </tr>\n",
       "    <tr>\n",
       "      <th>447725</th>\n",
       "      <td>7479437</td>\n",
       "      <td>2012</td>\n",
       "      <td>1</td>\n",
       "      <td>VEREADOR</td>\n",
       "      <td>MASCULINO</td>\n",
       "    </tr>\n",
       "  </tbody>\n",
       "</table>\n",
       "</div>"
      ],
      "text/plain": [
       "        ID_CANDIDATO  ANO_ELEICAO  NUM_TURNO DESCRICAO_CARGO DESCRICAO_SEXO\n",
       "447723       7479420         2012          1        VEREADOR       FEMININO\n",
       "447724       7479436         2012          1        VEREADOR      MASCULINO\n",
       "447725       7479437         2012          1        VEREADOR      MASCULINO"
      ]
     },
     "execution_count": 8,
     "metadata": {},
     "output_type": "execute_result"
    }
   ],
   "source": [
    "v_2012.tail(3)"
   ]
  },
  {
   "cell_type": "code",
   "execution_count": 9,
   "metadata": {},
   "outputs": [
    {
     "data": {
      "text/html": [
       "<div>\n",
       "<style scoped>\n",
       "    .dataframe tbody tr th:only-of-type {\n",
       "        vertical-align: middle;\n",
       "    }\n",
       "\n",
       "    .dataframe tbody tr th {\n",
       "        vertical-align: top;\n",
       "    }\n",
       "\n",
       "    .dataframe thead th {\n",
       "        text-align: right;\n",
       "    }\n",
       "</style>\n",
       "<table border=\"1\" class=\"dataframe\">\n",
       "  <thead>\n",
       "    <tr style=\"text-align: right;\">\n",
       "      <th></th>\n",
       "      <th>ID_CANDIDATO</th>\n",
       "      <th>ANO_ELEICAO</th>\n",
       "      <th>NUM_TURNO</th>\n",
       "      <th>DESCRICAO_CARGO</th>\n",
       "      <th>DESCRICAO_SEXO</th>\n",
       "    </tr>\n",
       "  </thead>\n",
       "  <tbody>\n",
       "    <tr>\n",
       "      <th>0</th>\n",
       "      <td>9000000</td>\n",
       "      <td>2016</td>\n",
       "      <td>1</td>\n",
       "      <td>VEREADOR</td>\n",
       "      <td>FEMININO</td>\n",
       "    </tr>\n",
       "    <tr>\n",
       "      <th>1</th>\n",
       "      <td>9000001</td>\n",
       "      <td>2016</td>\n",
       "      <td>1</td>\n",
       "      <td>VEREADOR</td>\n",
       "      <td>MASCULINO</td>\n",
       "    </tr>\n",
       "    <tr>\n",
       "      <th>2</th>\n",
       "      <td>9000002</td>\n",
       "      <td>2016</td>\n",
       "      <td>1</td>\n",
       "      <td>VEREADOR</td>\n",
       "      <td>MASCULINO</td>\n",
       "    </tr>\n",
       "  </tbody>\n",
       "</table>\n",
       "</div>"
      ],
      "text/plain": [
       "   ID_CANDIDATO  ANO_ELEICAO  NUM_TURNO DESCRICAO_CARGO DESCRICAO_SEXO\n",
       "0       9000000         2016          1        VEREADOR       FEMININO\n",
       "1       9000001         2016          1        VEREADOR      MASCULINO\n",
       "2       9000002         2016          1        VEREADOR      MASCULINO"
      ]
     },
     "execution_count": 9,
     "metadata": {},
     "output_type": "execute_result"
    }
   ],
   "source": [
    "v_2016.head(3)"
   ]
  },
  {
   "cell_type": "code",
   "execution_count": 10,
   "metadata": {},
   "outputs": [
    {
     "data": {
      "text/html": [
       "<div>\n",
       "<style scoped>\n",
       "    .dataframe tbody tr th:only-of-type {\n",
       "        vertical-align: middle;\n",
       "    }\n",
       "\n",
       "    .dataframe tbody tr th {\n",
       "        vertical-align: top;\n",
       "    }\n",
       "\n",
       "    .dataframe thead th {\n",
       "        text-align: right;\n",
       "    }\n",
       "</style>\n",
       "<table border=\"1\" class=\"dataframe\">\n",
       "  <thead>\n",
       "    <tr style=\"text-align: right;\">\n",
       "      <th></th>\n",
       "      <th>ID_CANDIDATO</th>\n",
       "      <th>ANO_ELEICAO</th>\n",
       "      <th>NUM_TURNO</th>\n",
       "      <th>DESCRICAO_CARGO</th>\n",
       "      <th>DESCRICAO_SEXO</th>\n",
       "    </tr>\n",
       "  </thead>\n",
       "  <tbody>\n",
       "    <tr>\n",
       "      <th>461898</th>\n",
       "      <td>9494920</td>\n",
       "      <td>2016</td>\n",
       "      <td>1</td>\n",
       "      <td>VEREADOR</td>\n",
       "      <td>FEMININO</td>\n",
       "    </tr>\n",
       "    <tr>\n",
       "      <th>461899</th>\n",
       "      <td>9494921</td>\n",
       "      <td>2016</td>\n",
       "      <td>1</td>\n",
       "      <td>VEREADOR</td>\n",
       "      <td>MASCULINO</td>\n",
       "    </tr>\n",
       "    <tr>\n",
       "      <th>461900</th>\n",
       "      <td>9494922</td>\n",
       "      <td>2016</td>\n",
       "      <td>1</td>\n",
       "      <td>VEREADOR</td>\n",
       "      <td>FEMININO</td>\n",
       "    </tr>\n",
       "  </tbody>\n",
       "</table>\n",
       "</div>"
      ],
      "text/plain": [
       "        ID_CANDIDATO  ANO_ELEICAO  NUM_TURNO DESCRICAO_CARGO DESCRICAO_SEXO\n",
       "461898       9494920         2016          1        VEREADOR       FEMININO\n",
       "461899       9494921         2016          1        VEREADOR      MASCULINO\n",
       "461900       9494922         2016          1        VEREADOR       FEMININO"
      ]
     },
     "execution_count": 10,
     "metadata": {},
     "output_type": "execute_result"
    }
   ],
   "source": [
    "v_2016.tail(3)"
   ]
  },
  {
   "cell_type": "markdown",
   "metadata": {},
   "source": [
    "Em seguida, contabilizar as candidaturas de mulheres ao cargo de vereador."
   ]
  },
  {
   "cell_type": "code",
   "execution_count": 11,
   "metadata": {},
   "outputs": [],
   "source": [
    "v_2004_mul = v_2004.query(\"DESCRICAO_SEXO == 'FEMININO'\")['DESCRICAO_SEXO'].count()\n",
    "v_2008_mul = v_2008.query(\"DESCRICAO_SEXO == 'FEMININO'\")['DESCRICAO_SEXO'].count()\n",
    "v_2012_mul = v_2012.query(\"DESCRICAO_SEXO == 'FEMININO'\")['DESCRICAO_SEXO'].count()\n",
    "v_2016_mul = v_2016.query(\"DESCRICAO_SEXO == 'FEMININO'\")['DESCRICAO_SEXO'].count()"
   ]
  },
  {
   "cell_type": "code",
   "execution_count": 12,
   "metadata": {},
   "outputs": [
    {
     "name": "stdout",
     "output_type": "stream",
     "text": [
      "81048\n",
      "77436\n",
      "146169\n",
      "152580\n"
     ]
    }
   ],
   "source": [
    "print(v_2004_mul)\n",
    "print(v_2008_mul)\n",
    "print(v_2012_mul)\n",
    "print(v_2016_mul)"
   ]
  },
  {
   "cell_type": "markdown",
   "metadata": {},
   "source": [
    "Depois, contabilizar as candidaturas de homens ao cargo de vereador."
   ]
  },
  {
   "cell_type": "code",
   "execution_count": 13,
   "metadata": {},
   "outputs": [],
   "source": [
    "v_2004_hom = v_2004.query(\"DESCRICAO_SEXO == 'MASCULINO'\")['DESCRICAO_SEXO'].count()\n",
    "v_2008_hom = v_2008.query(\"DESCRICAO_SEXO == 'MASCULINO'\")['DESCRICAO_SEXO'].count()\n",
    "v_2012_hom = v_2012.query(\"DESCRICAO_SEXO == 'MASCULINO'\")['DESCRICAO_SEXO'].count()\n",
    "v_2016_hom = v_2016.query(\"DESCRICAO_SEXO == 'MASCULINO'\")['DESCRICAO_SEXO'].count()"
   ]
  },
  {
   "cell_type": "code",
   "execution_count": 14,
   "metadata": {},
   "outputs": [
    {
     "name": "stdout",
     "output_type": "stream",
     "text": [
      "286433\n",
      "274194\n",
      "301557\n",
      "309321\n"
     ]
    }
   ],
   "source": [
    "print(v_2004_hom)\n",
    "print(v_2008_hom)\n",
    "print(v_2012_hom)\n",
    "print(v_2016_hom)"
   ]
  },
  {
   "cell_type": "markdown",
   "metadata": {},
   "source": [
    "Abaixo, é montado um dataframe analisando a diferença da quantidade de candidaturas:"
   ]
  },
  {
   "cell_type": "code",
   "execution_count": 15,
   "metadata": {},
   "outputs": [
    {
     "name": "stdout",
     "output_type": "stream",
     "text": [
      "    Ano  Mulheres  Homens   Total  % Mulheres   % Homens\n",
      "0  2004     81048  286433  367481   22.055018  77.944982\n",
      "1  2008     77436  274194  351630   22.022012  77.977988\n",
      "2  2012    146169  301557  447726   32.646976  67.353024\n",
      "3  2016    152580  309321  461901   33.033053  66.966947\n"
     ]
    }
   ],
   "source": [
    "df = pd.DataFrame({\n",
    "    'Ano': ['2004', '2008', '2012', '2016'],\n",
    "    'Mulheres': [v_2004_mul, v_2008_mul, v_2012_mul, v_2016_mul],\n",
    "    'Homens': [v_2004_hom, v_2008_hom, v_2012_hom, v_2016_hom],\n",
    "})\n",
    "\n",
    "df['Total'] = df.sum(axis=1)\n",
    "\n",
    "df['% Mulheres'] = df['Mulheres']/df['Total']*100\n",
    "df['% Homens'] = df['Homens']/df['Total']*100\n",
    "\n",
    "print(df)"
   ]
  },
  {
   "cell_type": "markdown",
   "metadata": {},
   "source": [
    "Para melhor visualização, gráfico para ilustrar a diferença:"
   ]
  },
  {
   "cell_type": "code",
   "execution_count": 16,
   "metadata": {},
   "outputs": [
    {
     "name": "stdout",
     "output_type": "stream",
     "text": [
      "    Ano  % Mulheres   % Homens\n",
      "0  2004   22.055018  77.944982\n",
      "1  2008   22.022012  77.977988\n",
      "2  2012   32.646976  67.353024\n",
      "3  2016   33.033053  66.966947\n"
     ]
    }
   ],
   "source": [
    "df = df.drop([\"Mulheres\", \"Homens\", \"Total\"], axis=1)\n",
    "print(df)"
   ]
  },
  {
   "cell_type": "code",
   "execution_count": 17,
   "metadata": {},
   "outputs": [
    {
     "data": {
      "text/plain": [
       "<AxesSubplot:>"
      ]
     },
     "execution_count": 17,
     "metadata": {},
     "output_type": "execute_result"
    },
    {
     "data": {
      "image/png": "[encoded data removed]",
      "text/plain": [
       "<Figure size 432x288 with 1 Axes>"
      ]
     },
     "metadata": {
      "needs_background": "light"
     },
     "output_type": "display_data"
    }
   ],
   "source": [
    "df.plot(kind = 'bar')"
   ]
  },
  {
   "cell_type": "code",
   "execution_count": 18,
   "metadata": {},
   "outputs": [],
   "source": [
    "p_2004 = pd.read_csv('/home/beatriz/Documentos/projetos/EP04/CANDIDATOS_PREFEITO_2004.csv', delimiter=',', encoding='iso-8859-1', usecols=['ID_CANDIDATO', 'ANO_ELEICAO', 'NUM_TURNO', 'DESCRICAO_CARGO', 'DESCRICAO_SEXO'])\n",
    "p_2008 = pd.read_csv('/home/beatriz/Documentos/projetos/EP04/CANDIDATOS_PREFEITO_2008.csv', delimiter=',', encoding='iso-8859-1', usecols=['ID_CANDIDATO', 'ANO_ELEICAO', 'NUM_TURNO', 'DESCRICAO_CARGO', 'DESCRICAO_SEXO'])\n",
    "p_2012 = pd.read_csv('/home/beatriz/Documentos/projetos/EP04/CANDIDATOS_PREFEITO_2012.csv', delimiter=',', encoding='iso-8859-1', usecols=['ID_CANDIDATO', 'ANO_ELEICAO', 'NUM_TURNO', 'DESCRICAO_CARGO', 'DESCRICAO_SEXO'])\n",
    "p_2016 = pd.read_csv('/home/beatriz/Documentos/projetos/EP04/CANDIDATOS_PREFEITO_2016.csv', delimiter=',', encoding='iso-8859-1', usecols=['ID_CANDIDATO', 'ANO_ELEICAO', 'NUM_TURNO', 'DESCRICAO_CARGO', 'DESCRICAO_SEXO'])"
   ]
  },
  {
   "cell_type": "code",
   "execution_count": 19,
   "metadata": {},
   "outputs": [
    {
     "data": {
      "text/html": [
       "<div>\n",
       "<style scoped>\n",
       "    .dataframe tbody tr th:only-of-type {\n",
       "        vertical-align: middle;\n",
       "    }\n",
       "\n",
       "    .dataframe tbody tr th {\n",
       "        vertical-align: top;\n",
       "    }\n",
       "\n",
       "    .dataframe thead th {\n",
       "        text-align: right;\n",
       "    }\n",
       "</style>\n",
       "<table border=\"1\" class=\"dataframe\">\n",
       "  <thead>\n",
       "    <tr style=\"text-align: right;\">\n",
       "      <th></th>\n",
       "      <th>ID_CANDIDATO</th>\n",
       "      <th>ANO_ELEICAO</th>\n",
       "      <th>NUM_TURNO</th>\n",
       "      <th>DESCRICAO_CARGO</th>\n",
       "      <th>DESCRICAO_SEXO</th>\n",
       "    </tr>\n",
       "  </thead>\n",
       "  <tbody>\n",
       "    <tr>\n",
       "      <th>0</th>\n",
       "      <td>3000000</td>\n",
       "      <td>2004</td>\n",
       "      <td>1</td>\n",
       "      <td>PREFEITO</td>\n",
       "      <td>MASCULINO</td>\n",
       "    </tr>\n",
       "    <tr>\n",
       "      <th>1</th>\n",
       "      <td>3000001</td>\n",
       "      <td>2004</td>\n",
       "      <td>1</td>\n",
       "      <td>PREFEITO</td>\n",
       "      <td>MASCULINO</td>\n",
       "    </tr>\n",
       "    <tr>\n",
       "      <th>2</th>\n",
       "      <td>3000002</td>\n",
       "      <td>2004</td>\n",
       "      <td>1</td>\n",
       "      <td>PREFEITO</td>\n",
       "      <td>MASCULINO</td>\n",
       "    </tr>\n",
       "  </tbody>\n",
       "</table>\n",
       "</div>"
      ],
      "text/plain": [
       "   ID_CANDIDATO  ANO_ELEICAO  NUM_TURNO DESCRICAO_CARGO DESCRICAO_SEXO\n",
       "0       3000000         2004          1        PREFEITO      MASCULINO\n",
       "1       3000001         2004          1        PREFEITO      MASCULINO\n",
       "2       3000002         2004          1        PREFEITO      MASCULINO"
      ]
     },
     "execution_count": 19,
     "metadata": {},
     "output_type": "execute_result"
    }
   ],
   "source": [
    "p_2004.head(3)"
   ]
  },
  {
   "cell_type": "code",
   "execution_count": 20,
   "metadata": {},
   "outputs": [
    {
     "data": {
      "text/html": [
       "<div>\n",
       "<style scoped>\n",
       "    .dataframe tbody tr th:only-of-type {\n",
       "        vertical-align: middle;\n",
       "    }\n",
       "\n",
       "    .dataframe tbody tr th {\n",
       "        vertical-align: top;\n",
       "    }\n",
       "\n",
       "    .dataframe thead th {\n",
       "        text-align: right;\n",
       "    }\n",
       "</style>\n",
       "<table border=\"1\" class=\"dataframe\">\n",
       "  <thead>\n",
       "    <tr style=\"text-align: right;\">\n",
       "      <th></th>\n",
       "      <th>ID_CANDIDATO</th>\n",
       "      <th>ANO_ELEICAO</th>\n",
       "      <th>NUM_TURNO</th>\n",
       "      <th>DESCRICAO_CARGO</th>\n",
       "      <th>DESCRICAO_SEXO</th>\n",
       "    </tr>\n",
       "  </thead>\n",
       "  <tbody>\n",
       "    <tr>\n",
       "      <th>16093</th>\n",
       "      <td>3399823</td>\n",
       "      <td>2004</td>\n",
       "      <td>1</td>\n",
       "      <td>PREFEITO</td>\n",
       "      <td>MASCULINO</td>\n",
       "    </tr>\n",
       "    <tr>\n",
       "      <th>16094</th>\n",
       "      <td>3399824</td>\n",
       "      <td>2004</td>\n",
       "      <td>1</td>\n",
       "      <td>PREFEITO</td>\n",
       "      <td>MASCULINO</td>\n",
       "    </tr>\n",
       "  </tbody>\n",
       "</table>\n",
       "</div>"
      ],
      "text/plain": [
       "       ID_CANDIDATO  ANO_ELEICAO  NUM_TURNO DESCRICAO_CARGO DESCRICAO_SEXO\n",
       "16093       3399823         2004          1        PREFEITO      MASCULINO\n",
       "16094       3399824         2004          1        PREFEITO      MASCULINO"
      ]
     },
     "execution_count": 20,
     "metadata": {},
     "output_type": "execute_result"
    }
   ],
   "source": [
    "p_2004.tail(2)"
   ]
  },
  {
   "cell_type": "code",
   "execution_count": 21,
   "metadata": {},
   "outputs": [
    {
     "data": {
      "text/html": [
       "<div>\n",
       "<style scoped>\n",
       "    .dataframe tbody tr th:only-of-type {\n",
       "        vertical-align: middle;\n",
       "    }\n",
       "\n",
       "    .dataframe tbody tr th {\n",
       "        vertical-align: top;\n",
       "    }\n",
       "\n",
       "    .dataframe thead th {\n",
       "        text-align: right;\n",
       "    }\n",
       "</style>\n",
       "<table border=\"1\" class=\"dataframe\">\n",
       "  <thead>\n",
       "    <tr style=\"text-align: right;\">\n",
       "      <th></th>\n",
       "      <th>ID_CANDIDATO</th>\n",
       "      <th>ANO_ELEICAO</th>\n",
       "      <th>NUM_TURNO</th>\n",
       "      <th>DESCRICAO_CARGO</th>\n",
       "      <th>DESCRICAO_SEXO</th>\n",
       "    </tr>\n",
       "  </thead>\n",
       "  <tbody>\n",
       "    <tr>\n",
       "      <th>0</th>\n",
       "      <td>5000000</td>\n",
       "      <td>2008</td>\n",
       "      <td>1</td>\n",
       "      <td>PREFEITO</td>\n",
       "      <td>MASCULINO</td>\n",
       "    </tr>\n",
       "    <tr>\n",
       "      <th>1</th>\n",
       "      <td>5000001</td>\n",
       "      <td>2008</td>\n",
       "      <td>1</td>\n",
       "      <td>PREFEITO</td>\n",
       "      <td>MASCULINO</td>\n",
       "    </tr>\n",
       "    <tr>\n",
       "      <th>2</th>\n",
       "      <td>5000002</td>\n",
       "      <td>2008</td>\n",
       "      <td>1</td>\n",
       "      <td>PREFEITO</td>\n",
       "      <td>MASCULINO</td>\n",
       "    </tr>\n",
       "  </tbody>\n",
       "</table>\n",
       "</div>"
      ],
      "text/plain": [
       "   ID_CANDIDATO  ANO_ELEICAO  NUM_TURNO DESCRICAO_CARGO DESCRICAO_SEXO\n",
       "0       5000000         2008          1        PREFEITO      MASCULINO\n",
       "1       5000001         2008          1        PREFEITO      MASCULINO\n",
       "2       5000002         2008          1        PREFEITO      MASCULINO"
      ]
     },
     "execution_count": 21,
     "metadata": {},
     "output_type": "execute_result"
    }
   ],
   "source": [
    "p_2008.head(3)"
   ]
  },
  {
   "cell_type": "code",
   "execution_count": 22,
   "metadata": {},
   "outputs": [
    {
     "data": {
      "text/html": [
       "<div>\n",
       "<style scoped>\n",
       "    .dataframe tbody tr th:only-of-type {\n",
       "        vertical-align: middle;\n",
       "    }\n",
       "\n",
       "    .dataframe tbody tr th {\n",
       "        vertical-align: top;\n",
       "    }\n",
       "\n",
       "    .dataframe thead th {\n",
       "        text-align: right;\n",
       "    }\n",
       "</style>\n",
       "<table border=\"1\" class=\"dataframe\">\n",
       "  <thead>\n",
       "    <tr style=\"text-align: right;\">\n",
       "      <th></th>\n",
       "      <th>ID_CANDIDATO</th>\n",
       "      <th>ANO_ELEICAO</th>\n",
       "      <th>NUM_TURNO</th>\n",
       "      <th>DESCRICAO_CARGO</th>\n",
       "      <th>DESCRICAO_SEXO</th>\n",
       "    </tr>\n",
       "  </thead>\n",
       "  <tbody>\n",
       "    <tr>\n",
       "      <th>16092</th>\n",
       "      <td>3399822</td>\n",
       "      <td>2004</td>\n",
       "      <td>1</td>\n",
       "      <td>PREFEITO</td>\n",
       "      <td>FEMININO</td>\n",
       "    </tr>\n",
       "    <tr>\n",
       "      <th>16093</th>\n",
       "      <td>3399823</td>\n",
       "      <td>2004</td>\n",
       "      <td>1</td>\n",
       "      <td>PREFEITO</td>\n",
       "      <td>MASCULINO</td>\n",
       "    </tr>\n",
       "    <tr>\n",
       "      <th>16094</th>\n",
       "      <td>3399824</td>\n",
       "      <td>2004</td>\n",
       "      <td>1</td>\n",
       "      <td>PREFEITO</td>\n",
       "      <td>MASCULINO</td>\n",
       "    </tr>\n",
       "  </tbody>\n",
       "</table>\n",
       "</div>"
      ],
      "text/plain": [
       "       ID_CANDIDATO  ANO_ELEICAO  NUM_TURNO DESCRICAO_CARGO DESCRICAO_SEXO\n",
       "16092       3399822         2004          1        PREFEITO       FEMININO\n",
       "16093       3399823         2004          1        PREFEITO      MASCULINO\n",
       "16094       3399824         2004          1        PREFEITO      MASCULINO"
      ]
     },
     "execution_count": 22,
     "metadata": {},
     "output_type": "execute_result"
    }
   ],
   "source": [
    "p_2004.tail(3)"
   ]
  },
  {
   "cell_type": "code",
   "execution_count": 23,
   "metadata": {},
   "outputs": [
    {
     "data": {
      "text/html": [
       "<div>\n",
       "<style scoped>\n",
       "    .dataframe tbody tr th:only-of-type {\n",
       "        vertical-align: middle;\n",
       "    }\n",
       "\n",
       "    .dataframe tbody tr th {\n",
       "        vertical-align: top;\n",
       "    }\n",
       "\n",
       "    .dataframe thead th {\n",
       "        text-align: right;\n",
       "    }\n",
       "</style>\n",
       "<table border=\"1\" class=\"dataframe\">\n",
       "  <thead>\n",
       "    <tr style=\"text-align: right;\">\n",
       "      <th></th>\n",
       "      <th>ID_CANDIDATO</th>\n",
       "      <th>ANO_ELEICAO</th>\n",
       "      <th>NUM_TURNO</th>\n",
       "      <th>DESCRICAO_CARGO</th>\n",
       "      <th>DESCRICAO_SEXO</th>\n",
       "    </tr>\n",
       "  </thead>\n",
       "  <tbody>\n",
       "    <tr>\n",
       "      <th>0</th>\n",
       "      <td>7000009</td>\n",
       "      <td>2012</td>\n",
       "      <td>1</td>\n",
       "      <td>PREFEITO</td>\n",
       "      <td>FEMININO</td>\n",
       "    </tr>\n",
       "    <tr>\n",
       "      <th>1</th>\n",
       "      <td>7000029</td>\n",
       "      <td>2012</td>\n",
       "      <td>1</td>\n",
       "      <td>PREFEITO</td>\n",
       "      <td>MASCULINO</td>\n",
       "    </tr>\n",
       "    <tr>\n",
       "      <th>2</th>\n",
       "      <td>7000051</td>\n",
       "      <td>2012</td>\n",
       "      <td>1</td>\n",
       "      <td>PREFEITO</td>\n",
       "      <td>MASCULINO</td>\n",
       "    </tr>\n",
       "  </tbody>\n",
       "</table>\n",
       "</div>"
      ],
      "text/plain": [
       "   ID_CANDIDATO  ANO_ELEICAO  NUM_TURNO DESCRICAO_CARGO DESCRICAO_SEXO\n",
       "0       7000009         2012          1        PREFEITO       FEMININO\n",
       "1       7000029         2012          1        PREFEITO      MASCULINO\n",
       "2       7000051         2012          1        PREFEITO      MASCULINO"
      ]
     },
     "execution_count": 23,
     "metadata": {},
     "output_type": "execute_result"
    }
   ],
   "source": [
    "p_2012.head(3)"
   ]
  },
  {
   "cell_type": "code",
   "execution_count": 24,
   "metadata": {},
   "outputs": [
    {
     "data": {
      "text/html": [
       "<div>\n",
       "<style scoped>\n",
       "    .dataframe tbody tr th:only-of-type {\n",
       "        vertical-align: middle;\n",
       "    }\n",
       "\n",
       "    .dataframe tbody tr th {\n",
       "        vertical-align: top;\n",
       "    }\n",
       "\n",
       "    .dataframe thead th {\n",
       "        text-align: right;\n",
       "    }\n",
       "</style>\n",
       "<table border=\"1\" class=\"dataframe\">\n",
       "  <thead>\n",
       "    <tr style=\"text-align: right;\">\n",
       "      <th></th>\n",
       "      <th>ID_CANDIDATO</th>\n",
       "      <th>ANO_ELEICAO</th>\n",
       "      <th>NUM_TURNO</th>\n",
       "      <th>DESCRICAO_CARGO</th>\n",
       "      <th>DESCRICAO_SEXO</th>\n",
       "    </tr>\n",
       "  </thead>\n",
       "  <tbody>\n",
       "    <tr>\n",
       "      <th>15921</th>\n",
       "      <td>7479443</td>\n",
       "      <td>2012</td>\n",
       "      <td>1</td>\n",
       "      <td>PREFEITO</td>\n",
       "      <td>MASCULINO</td>\n",
       "    </tr>\n",
       "    <tr>\n",
       "      <th>15922</th>\n",
       "      <td>7479444</td>\n",
       "      <td>2012</td>\n",
       "      <td>1</td>\n",
       "      <td>PREFEITO</td>\n",
       "      <td>MASCULINO</td>\n",
       "    </tr>\n",
       "    <tr>\n",
       "      <th>15923</th>\n",
       "      <td>7479445</td>\n",
       "      <td>2012</td>\n",
       "      <td>1</td>\n",
       "      <td>PREFEITO</td>\n",
       "      <td>FEMININO</td>\n",
       "    </tr>\n",
       "  </tbody>\n",
       "</table>\n",
       "</div>"
      ],
      "text/plain": [
       "       ID_CANDIDATO  ANO_ELEICAO  NUM_TURNO DESCRICAO_CARGO DESCRICAO_SEXO\n",
       "15921       7479443         2012          1        PREFEITO      MASCULINO\n",
       "15922       7479444         2012          1        PREFEITO      MASCULINO\n",
       "15923       7479445         2012          1        PREFEITO       FEMININO"
      ]
     },
     "execution_count": 24,
     "metadata": {},
     "output_type": "execute_result"
    }
   ],
   "source": [
    "p_2012.tail(3)"
   ]
  },
  {
   "cell_type": "code",
   "execution_count": 25,
   "metadata": {},
   "outputs": [
    {
     "data": {
      "text/html": [
       "<div>\n",
       "<style scoped>\n",
       "    .dataframe tbody tr th:only-of-type {\n",
       "        vertical-align: middle;\n",
       "    }\n",
       "\n",
       "    .dataframe tbody tr th {\n",
       "        vertical-align: top;\n",
       "    }\n",
       "\n",
       "    .dataframe thead th {\n",
       "        text-align: right;\n",
       "    }\n",
       "</style>\n",
       "<table border=\"1\" class=\"dataframe\">\n",
       "  <thead>\n",
       "    <tr style=\"text-align: right;\">\n",
       "      <th></th>\n",
       "      <th>ID_CANDIDATO</th>\n",
       "      <th>ANO_ELEICAO</th>\n",
       "      <th>NUM_TURNO</th>\n",
       "      <th>DESCRICAO_CARGO</th>\n",
       "      <th>DESCRICAO_SEXO</th>\n",
       "    </tr>\n",
       "  </thead>\n",
       "  <tbody>\n",
       "    <tr>\n",
       "      <th>0</th>\n",
       "      <td>9000052</td>\n",
       "      <td>2016</td>\n",
       "      <td>1</td>\n",
       "      <td>PREFEITO</td>\n",
       "      <td>MASCULINO</td>\n",
       "    </tr>\n",
       "    <tr>\n",
       "      <th>1</th>\n",
       "      <td>9000116</td>\n",
       "      <td>2016</td>\n",
       "      <td>1</td>\n",
       "      <td>PREFEITO</td>\n",
       "      <td>FEMININO</td>\n",
       "    </tr>\n",
       "    <tr>\n",
       "      <th>2</th>\n",
       "      <td>9000130</td>\n",
       "      <td>2016</td>\n",
       "      <td>1</td>\n",
       "      <td>PREFEITO</td>\n",
       "      <td>MASCULINO</td>\n",
       "    </tr>\n",
       "  </tbody>\n",
       "</table>\n",
       "</div>"
      ],
      "text/plain": [
       "   ID_CANDIDATO  ANO_ELEICAO  NUM_TURNO DESCRICAO_CARGO DESCRICAO_SEXO\n",
       "0       9000052         2016          1        PREFEITO      MASCULINO\n",
       "1       9000116         2016          1        PREFEITO       FEMININO\n",
       "2       9000130         2016          1        PREFEITO      MASCULINO"
      ]
     },
     "execution_count": 25,
     "metadata": {},
     "output_type": "execute_result"
    }
   ],
   "source": [
    "p_2016.head(3)"
   ]
  },
  {
   "cell_type": "code",
   "execution_count": 26,
   "metadata": {},
   "outputs": [
    {
     "data": {
      "text/html": [
       "<div>\n",
       "<style scoped>\n",
       "    .dataframe tbody tr th:only-of-type {\n",
       "        vertical-align: middle;\n",
       "    }\n",
       "\n",
       "    .dataframe tbody tr th {\n",
       "        vertical-align: top;\n",
       "    }\n",
       "\n",
       "    .dataframe thead th {\n",
       "        text-align: right;\n",
       "    }\n",
       "</style>\n",
       "<table border=\"1\" class=\"dataframe\">\n",
       "  <thead>\n",
       "    <tr style=\"text-align: right;\">\n",
       "      <th></th>\n",
       "      <th>ID_CANDIDATO</th>\n",
       "      <th>ANO_ELEICAO</th>\n",
       "      <th>NUM_TURNO</th>\n",
       "      <th>DESCRICAO_CARGO</th>\n",
       "      <th>DESCRICAO_SEXO</th>\n",
       "    </tr>\n",
       "  </thead>\n",
       "  <tbody>\n",
       "    <tr>\n",
       "      <th>16538</th>\n",
       "      <td>9494900</td>\n",
       "      <td>2016</td>\n",
       "      <td>1</td>\n",
       "      <td>PREFEITO</td>\n",
       "      <td>FEMININO</td>\n",
       "    </tr>\n",
       "    <tr>\n",
       "      <th>16539</th>\n",
       "      <td>9494908</td>\n",
       "      <td>2016</td>\n",
       "      <td>1</td>\n",
       "      <td>PREFEITO</td>\n",
       "      <td>MASCULINO</td>\n",
       "    </tr>\n",
       "    <tr>\n",
       "      <th>16540</th>\n",
       "      <td>9494923</td>\n",
       "      <td>2016</td>\n",
       "      <td>1</td>\n",
       "      <td>PREFEITO</td>\n",
       "      <td>FEMININO</td>\n",
       "    </tr>\n",
       "  </tbody>\n",
       "</table>\n",
       "</div>"
      ],
      "text/plain": [
       "       ID_CANDIDATO  ANO_ELEICAO  NUM_TURNO DESCRICAO_CARGO DESCRICAO_SEXO\n",
       "16538       9494900         2016          1        PREFEITO       FEMININO\n",
       "16539       9494908         2016          1        PREFEITO      MASCULINO\n",
       "16540       9494923         2016          1        PREFEITO       FEMININO"
      ]
     },
     "execution_count": 26,
     "metadata": {},
     "output_type": "execute_result"
    }
   ],
   "source": [
    "p_2016.tail(3)"
   ]
  },
  {
   "cell_type": "code",
   "execution_count": 27,
   "metadata": {},
   "outputs": [],
   "source": [
    "p_2004_mul = p_2004.query(\"DESCRICAO_SEXO == 'FEMININO'\")['DESCRICAO_SEXO'].count()\n",
    "p_2008_mul = p_2008.query(\"DESCRICAO_SEXO == 'FEMININO'\")['DESCRICAO_SEXO'].count()\n",
    "p_2012_mul = p_2012.query(\"DESCRICAO_SEXO == 'FEMININO'\")['DESCRICAO_SEXO'].count()\n",
    "p_2016_mul = p_2016.query(\"DESCRICAO_SEXO == 'FEMININO'\")['DESCRICAO_SEXO'].count()"
   ]
  },
  {
   "cell_type": "code",
   "execution_count": 28,
   "metadata": {},
   "outputs": [
    {
     "name": "stdout",
     "output_type": "stream",
     "text": [
      "1531\n",
      "1798\n",
      "2130\n",
      "2150\n"
     ]
    }
   ],
   "source": [
    "print(p_2004_mul)\n",
    "print(p_2008_mul)\n",
    "print(p_2012_mul)\n",
    "print(p_2016_mul)\n",
    "#print(p_2016.shape[0])"
   ]
  },
  {
   "cell_type": "code",
   "execution_count": 29,
   "metadata": {},
   "outputs": [],
   "source": [
    "p_2004_hom = p_2004.query(\"DESCRICAO_SEXO == 'MASCULINO'\")['DESCRICAO_SEXO'].count()\n",
    "p_2008_hom = p_2008.query(\"DESCRICAO_SEXO == 'MASCULINO'\")['DESCRICAO_SEXO'].count()\n",
    "p_2012_hom = p_2012.query(\"DESCRICAO_SEXO == 'MASCULINO'\")['DESCRICAO_SEXO'].count()\n",
    "p_2016_hom = p_2016.query(\"DESCRICAO_SEXO == 'MASCULINO'\")['DESCRICAO_SEXO'].count()"
   ]
  },
  {
   "cell_type": "code",
   "execution_count": 30,
   "metadata": {},
   "outputs": [
    {
     "name": "stdout",
     "output_type": "stream",
     "text": [
      "14561\n",
      "14421\n",
      "13794\n",
      "14391\n"
     ]
    }
   ],
   "source": [
    "print(p_2004_hom)\n",
    "print(p_2008_hom)\n",
    "print(p_2012_hom)\n",
    "print(p_2016_hom)\n",
    "#print(p_2016.shape[0])"
   ]
  },
  {
   "cell_type": "code",
   "execution_count": 31,
   "metadata": {},
   "outputs": [
    {
     "name": "stdout",
     "output_type": "stream",
     "text": [
      "    Ano  Mulheres  Homens  Total  % Mulheres   % Homens\n",
      "0  2004      1531   14561  16092    9.514044  90.485956\n",
      "1  2008      1798   14421  16219   11.085764  88.914236\n",
      "2  2012      2130   13794  15924   13.376036  86.623964\n",
      "3  2016      2150   14391  16541   12.998005  87.001995\n"
     ]
    }
   ],
   "source": [
    "df = pd.DataFrame({\n",
    "    'Ano': ['2004', '2008', '2012', '2016'],\n",
    "    'Mulheres': [p_2004_mul, p_2008_mul, p_2012_mul, p_2016_mul],\n",
    "    'Homens': [p_2004_hom, p_2008_hom, p_2012_hom, p_2016_hom],\n",
    "})\n",
    "\n",
    "df['Total'] = df.sum(axis=1)\n",
    "\n",
    "df['% Mulheres'] = df['Mulheres']/df['Total']*100\n",
    "df['% Homens'] = df['Homens']/df['Total']*100\n",
    "\n",
    "print(df)"
   ]
  },
  {
   "cell_type": "code",
   "execution_count": 32,
   "metadata": {},
   "outputs": [
    {
     "name": "stdout",
     "output_type": "stream",
     "text": [
      "    Ano  % Mulheres   % Homens\n",
      "0  2004    9.514044  90.485956\n",
      "1  2008   11.085764  88.914236\n",
      "2  2012   13.376036  86.623964\n",
      "3  2016   12.998005  87.001995\n"
     ]
    },
    {
     "data": {
      "text/plain": [
       "<AxesSubplot:>"
      ]
     },
     "execution_count": 32,
     "metadata": {},
     "output_type": "execute_result"
    },
    {
     "data": {
      "image/png": "[encoded data removed]",
      "text/plain": [
       "<Figure size 432x288 with 1 Axes>"
      ]
     },
     "metadata": {
      "needs_background": "light"
     },
     "output_type": "display_data"
    }
   ],
   "source": [
    "df = df.drop([\"Mulheres\", \"Homens\", \"Total\"], axis=1)\n",
    "print(df)\n",
    "df.plot(kind = 'bar')"
   ]
  },
  {
   "cell_type": "code",
   "execution_count": null,
   "metadata": {},
   "outputs": [],
   "source": []
  }
 ],
 "metadata": {
  "kernelspec": {
   "display_name": "Python 3",
   "language": "python",
   "name": "python3"
  },
  "language_info": {
   "codemirror_mode": {
    "name": "ipython",
    "version": 3
   },
   "file_extension": ".py",
   "mimetype": "text/x-python",
   "name": "python",
   "nbconvert_exporter": "python",
   "pygments_lexer": "ipython3",
   "version": "3.6.9"
  }
 },
 "nbformat": 4,
 "nbformat_minor": 4
}
