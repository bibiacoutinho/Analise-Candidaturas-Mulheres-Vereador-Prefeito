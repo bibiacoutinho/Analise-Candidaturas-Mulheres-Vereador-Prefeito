{
 "cells": [
  {
   "cell_type": "markdown",
   "metadata": {},
   "source": [
    "<h3>Inicialmente, faremos a análise de candidaturas de mulheres ao cargo de vereador e prefeito</h3>"
   ]
  },
  {
   "cell_type": "code",
   "execution_count": 250,
   "metadata": {},
   "outputs": [],
   "source": [
    "#Importação de bibliotecas\n",
    "%matplotlib inline\n",
    "import pandas as pd\n",
    "import matplotlib.pyplot as plt\n",
    "import numpy as np\n",
    "low_memory=False"
   ]
  },
  {
   "cell_type": "code",
   "execution_count": 251,
   "metadata": {},
   "outputs": [],
   "source": [
    "#Leitura dos arquivos\n",
    "v_2004 = pd.read_csv('/home/beatriz/Documentos/projetos/EP04/CANDIDATOS_VEREADOR_2004.csv', delimiter=',', encoding='iso-8859-1', usecols=['ID_CANDIDATO', 'ANO_ELEICAO', 'NUM_TURNO', 'DESCRICAO_CARGO', 'DESCRICAO_SEXO'])\n",
    "v_2008 = pd.read_csv('/home/beatriz/Documentos/projetos/EP04/CANDIDATOS_VEREADOR_2008.csv', delimiter=',', encoding='iso-8859-1', usecols=['ID_CANDIDATO', 'ANO_ELEICAO', 'NUM_TURNO', 'DESCRICAO_CARGO', 'DESCRICAO_SEXO'])\n",
    "v_2012 = pd.read_csv('/home/beatriz/Documentos/projetos/EP04/CANDIDATOS_VEREADOR_2012.csv', delimiter=',', encoding='iso-8859-1', usecols=['ID_CANDIDATO', 'ANO_ELEICAO', 'NUM_TURNO', 'DESCRICAO_CARGO', 'DESCRICAO_SEXO'])\n",
    "v_2016 = pd.read_csv('/home/beatriz/Documentos/projetos/EP04/CANDIDATOS_VEREADOR_2016.csv', delimiter=',', encoding='iso-8859-1', usecols=['ID_CANDIDATO', 'ANO_ELEICAO', 'NUM_TURNO', 'DESCRICAO_CARGO', 'DESCRICAO_SEXO'])\n",
    "\n",
    "p_2004 = pd.read_csv('/home/beatriz/Documentos/projetos/EP04/CANDIDATOS_PREFEITO_2004.csv', delimiter=',', encoding='iso-8859-1', usecols=['ID_CANDIDATO', 'ANO_ELEICAO', 'NUM_TURNO', 'DESCRICAO_CARGO', 'DESCRICAO_SEXO'])\n",
    "p_2008 = pd.read_csv('/home/beatriz/Documentos/projetos/EP04/CANDIDATOS_PREFEITO_2008.csv', delimiter=',', encoding='iso-8859-1', usecols=['ID_CANDIDATO', 'ANO_ELEICAO', 'NUM_TURNO', 'DESCRICAO_CARGO', 'DESCRICAO_SEXO'])\n",
    "p_2012 = pd.read_csv('/home/beatriz/Documentos/projetos/EP04/CANDIDATOS_PREFEITO_2012.csv', delimiter=',', encoding='iso-8859-1', usecols=['ID_CANDIDATO', 'ANO_ELEICAO', 'NUM_TURNO', 'DESCRICAO_CARGO', 'DESCRICAO_SEXO'])\n",
    "p_2016 = pd.read_csv('/home/beatriz/Documentos/projetos/EP04/CANDIDATOS_PREFEITO_2016.csv', delimiter=',', encoding='iso-8859-1', usecols=['ID_CANDIDATO', 'ANO_ELEICAO', 'NUM_TURNO', 'DESCRICAO_CARGO', 'DESCRICAO_SEXO'])"
   ]
  },
  {
   "cell_type": "markdown",
   "metadata": {},
   "source": [
    "<h3>Após a leitura, é preciso verificar se os dados foram inseridos corretamente, portanto foi utilizado o head() e tail(), para ver o início e final de cada dataframe.</h3>"
   ]
  },
  {
   "cell_type": "code",
   "execution_count": 252,
   "metadata": {},
   "outputs": [
    {
     "data": {
      "text/html": [
       "<div>\n",
       "<style scoped>\n",
       "    .dataframe tbody tr th:only-of-type {\n",
       "        vertical-align: middle;\n",
       "    }\n",
       "\n",
       "    .dataframe tbody tr th {\n",
       "        vertical-align: top;\n",
       "    }\n",
       "\n",
       "    .dataframe thead th {\n",
       "        text-align: right;\n",
       "    }\n",
       "</style>\n",
       "<table border=\"1\" class=\"dataframe\">\n",
       "  <thead>\n",
       "    <tr style=\"text-align: right;\">\n",
       "      <th></th>\n",
       "      <th>ID_CANDIDATO</th>\n",
       "      <th>ANO_ELEICAO</th>\n",
       "      <th>NUM_TURNO</th>\n",
       "      <th>DESCRICAO_CARGO</th>\n",
       "      <th>DESCRICAO_SEXO</th>\n",
       "    </tr>\n",
       "  </thead>\n",
       "  <tbody>\n",
       "    <tr>\n",
       "      <th>0</th>\n",
       "      <td>3000006</td>\n",
       "      <td>2004</td>\n",
       "      <td>1</td>\n",
       "      <td>VEREADOR</td>\n",
       "      <td>MASCULINO</td>\n",
       "    </tr>\n",
       "    <tr>\n",
       "      <th>1</th>\n",
       "      <td>3000007</td>\n",
       "      <td>2004</td>\n",
       "      <td>1</td>\n",
       "      <td>VEREADOR</td>\n",
       "      <td>MASCULINO</td>\n",
       "    </tr>\n",
       "    <tr>\n",
       "      <th>2</th>\n",
       "      <td>3000008</td>\n",
       "      <td>2004</td>\n",
       "      <td>1</td>\n",
       "      <td>VEREADOR</td>\n",
       "      <td>MASCULINO</td>\n",
       "    </tr>\n",
       "  </tbody>\n",
       "</table>\n",
       "</div>"
      ],
      "text/plain": [
       "   ID_CANDIDATO  ANO_ELEICAO  NUM_TURNO DESCRICAO_CARGO DESCRICAO_SEXO\n",
       "0       3000006         2004          1        VEREADOR      MASCULINO\n",
       "1       3000007         2004          1        VEREADOR      MASCULINO\n",
       "2       3000008         2004          1        VEREADOR      MASCULINO"
      ]
     },
     "execution_count": 252,
     "metadata": {},
     "output_type": "execute_result"
    }
   ],
   "source": [
    "v_2004.head(3)"
   ]
  },
  {
   "cell_type": "code",
   "execution_count": 253,
   "metadata": {},
   "outputs": [
    {
     "data": {
      "text/html": [
       "<div>\n",
       "<style scoped>\n",
       "    .dataframe tbody tr th:only-of-type {\n",
       "        vertical-align: middle;\n",
       "    }\n",
       "\n",
       "    .dataframe tbody tr th {\n",
       "        vertical-align: top;\n",
       "    }\n",
       "\n",
       "    .dataframe thead th {\n",
       "        text-align: right;\n",
       "    }\n",
       "</style>\n",
       "<table border=\"1\" class=\"dataframe\">\n",
       "  <thead>\n",
       "    <tr style=\"text-align: right;\">\n",
       "      <th></th>\n",
       "      <th>ID_CANDIDATO</th>\n",
       "      <th>ANO_ELEICAO</th>\n",
       "      <th>NUM_TURNO</th>\n",
       "      <th>DESCRICAO_CARGO</th>\n",
       "      <th>DESCRICAO_SEXO</th>\n",
       "    </tr>\n",
       "  </thead>\n",
       "  <tbody>\n",
       "    <tr>\n",
       "      <th>367666</th>\n",
       "      <td>3399866</td>\n",
       "      <td>2004</td>\n",
       "      <td>1</td>\n",
       "      <td>VEREADOR</td>\n",
       "      <td>MASCULINO</td>\n",
       "    </tr>\n",
       "    <tr>\n",
       "      <th>367667</th>\n",
       "      <td>3399867</td>\n",
       "      <td>2004</td>\n",
       "      <td>1</td>\n",
       "      <td>VEREADOR</td>\n",
       "      <td>FEMININO</td>\n",
       "    </tr>\n",
       "    <tr>\n",
       "      <th>367668</th>\n",
       "      <td>3399868</td>\n",
       "      <td>2004</td>\n",
       "      <td>1</td>\n",
       "      <td>VEREADOR</td>\n",
       "      <td>FEMININO</td>\n",
       "    </tr>\n",
       "  </tbody>\n",
       "</table>\n",
       "</div>"
      ],
      "text/plain": [
       "        ID_CANDIDATO  ANO_ELEICAO  NUM_TURNO DESCRICAO_CARGO DESCRICAO_SEXO\n",
       "367666       3399866         2004          1        VEREADOR      MASCULINO\n",
       "367667       3399867         2004          1        VEREADOR       FEMININO\n",
       "367668       3399868         2004          1        VEREADOR       FEMININO"
      ]
     },
     "execution_count": 253,
     "metadata": {},
     "output_type": "execute_result"
    }
   ],
   "source": [
    "v_2004.tail(3)"
   ]
  },
  {
   "cell_type": "code",
   "execution_count": 254,
   "metadata": {},
   "outputs": [
    {
     "data": {
      "text/html": [
       "<div>\n",
       "<style scoped>\n",
       "    .dataframe tbody tr th:only-of-type {\n",
       "        vertical-align: middle;\n",
       "    }\n",
       "\n",
       "    .dataframe tbody tr th {\n",
       "        vertical-align: top;\n",
       "    }\n",
       "\n",
       "    .dataframe thead th {\n",
       "        text-align: right;\n",
       "    }\n",
       "</style>\n",
       "<table border=\"1\" class=\"dataframe\">\n",
       "  <thead>\n",
       "    <tr style=\"text-align: right;\">\n",
       "      <th></th>\n",
       "      <th>ID_CANDIDATO</th>\n",
       "      <th>ANO_ELEICAO</th>\n",
       "      <th>NUM_TURNO</th>\n",
       "      <th>DESCRICAO_CARGO</th>\n",
       "      <th>DESCRICAO_SEXO</th>\n",
       "    </tr>\n",
       "  </thead>\n",
       "  <tbody>\n",
       "    <tr>\n",
       "      <th>0</th>\n",
       "      <td>5000006</td>\n",
       "      <td>2008</td>\n",
       "      <td>1</td>\n",
       "      <td>VEREADOR</td>\n",
       "      <td>MASCULINO</td>\n",
       "    </tr>\n",
       "    <tr>\n",
       "      <th>1</th>\n",
       "      <td>5000007</td>\n",
       "      <td>2008</td>\n",
       "      <td>1</td>\n",
       "      <td>VEREADOR</td>\n",
       "      <td>MASCULINO</td>\n",
       "    </tr>\n",
       "    <tr>\n",
       "      <th>2</th>\n",
       "      <td>5000008</td>\n",
       "      <td>2008</td>\n",
       "      <td>1</td>\n",
       "      <td>VEREADOR</td>\n",
       "      <td>MASCULINO</td>\n",
       "    </tr>\n",
       "  </tbody>\n",
       "</table>\n",
       "</div>"
      ],
      "text/plain": [
       "   ID_CANDIDATO  ANO_ELEICAO  NUM_TURNO DESCRICAO_CARGO DESCRICAO_SEXO\n",
       "0       5000006         2008          1        VEREADOR      MASCULINO\n",
       "1       5000007         2008          1        VEREADOR      MASCULINO\n",
       "2       5000008         2008          1        VEREADOR      MASCULINO"
      ]
     },
     "execution_count": 254,
     "metadata": {},
     "output_type": "execute_result"
    }
   ],
   "source": [
    "v_2008.head(3)"
   ]
  },
  {
   "cell_type": "code",
   "execution_count": 255,
   "metadata": {},
   "outputs": [
    {
     "data": {
      "text/html": [
       "<div>\n",
       "<style scoped>\n",
       "    .dataframe tbody tr th:only-of-type {\n",
       "        vertical-align: middle;\n",
       "    }\n",
       "\n",
       "    .dataframe tbody tr th {\n",
       "        vertical-align: top;\n",
       "    }\n",
       "\n",
       "    .dataframe thead th {\n",
       "        text-align: right;\n",
       "    }\n",
       "</style>\n",
       "<table border=\"1\" class=\"dataframe\">\n",
       "  <thead>\n",
       "    <tr style=\"text-align: right;\">\n",
       "      <th></th>\n",
       "      <th>ID_CANDIDATO</th>\n",
       "      <th>ANO_ELEICAO</th>\n",
       "      <th>NUM_TURNO</th>\n",
       "      <th>DESCRICAO_CARGO</th>\n",
       "      <th>DESCRICAO_SEXO</th>\n",
       "    </tr>\n",
       "  </thead>\n",
       "  <tbody>\n",
       "    <tr>\n",
       "      <th>351628</th>\n",
       "      <td>5384514</td>\n",
       "      <td>2008</td>\n",
       "      <td>1</td>\n",
       "      <td>VEREADOR</td>\n",
       "      <td>MASCULINO</td>\n",
       "    </tr>\n",
       "    <tr>\n",
       "      <th>351629</th>\n",
       "      <td>5384515</td>\n",
       "      <td>2008</td>\n",
       "      <td>1</td>\n",
       "      <td>VEREADOR</td>\n",
       "      <td>FEMININO</td>\n",
       "    </tr>\n",
       "    <tr>\n",
       "      <th>351630</th>\n",
       "      <td>5384516</td>\n",
       "      <td>2008</td>\n",
       "      <td>1</td>\n",
       "      <td>VEREADOR</td>\n",
       "      <td>MASCULINO</td>\n",
       "    </tr>\n",
       "  </tbody>\n",
       "</table>\n",
       "</div>"
      ],
      "text/plain": [
       "        ID_CANDIDATO  ANO_ELEICAO  NUM_TURNO DESCRICAO_CARGO DESCRICAO_SEXO\n",
       "351628       5384514         2008          1        VEREADOR      MASCULINO\n",
       "351629       5384515         2008          1        VEREADOR       FEMININO\n",
       "351630       5384516         2008          1        VEREADOR      MASCULINO"
      ]
     },
     "execution_count": 255,
     "metadata": {},
     "output_type": "execute_result"
    }
   ],
   "source": [
    "v_2008.tail(3)"
   ]
  },
  {
   "cell_type": "code",
   "execution_count": 256,
   "metadata": {},
   "outputs": [
    {
     "data": {
      "text/html": [
       "<div>\n",
       "<style scoped>\n",
       "    .dataframe tbody tr th:only-of-type {\n",
       "        vertical-align: middle;\n",
       "    }\n",
       "\n",
       "    .dataframe tbody tr th {\n",
       "        vertical-align: top;\n",
       "    }\n",
       "\n",
       "    .dataframe thead th {\n",
       "        text-align: right;\n",
       "    }\n",
       "</style>\n",
       "<table border=\"1\" class=\"dataframe\">\n",
       "  <thead>\n",
       "    <tr style=\"text-align: right;\">\n",
       "      <th></th>\n",
       "      <th>ID_CANDIDATO</th>\n",
       "      <th>ANO_ELEICAO</th>\n",
       "      <th>NUM_TURNO</th>\n",
       "      <th>DESCRICAO_CARGO</th>\n",
       "      <th>DESCRICAO_SEXO</th>\n",
       "    </tr>\n",
       "  </thead>\n",
       "  <tbody>\n",
       "    <tr>\n",
       "      <th>0</th>\n",
       "      <td>7000000</td>\n",
       "      <td>2012</td>\n",
       "      <td>1</td>\n",
       "      <td>VEREADOR</td>\n",
       "      <td>FEMININO</td>\n",
       "    </tr>\n",
       "    <tr>\n",
       "      <th>1</th>\n",
       "      <td>7000001</td>\n",
       "      <td>2012</td>\n",
       "      <td>1</td>\n",
       "      <td>VEREADOR</td>\n",
       "      <td>MASCULINO</td>\n",
       "    </tr>\n",
       "    <tr>\n",
       "      <th>2</th>\n",
       "      <td>7000002</td>\n",
       "      <td>2012</td>\n",
       "      <td>1</td>\n",
       "      <td>VEREADOR</td>\n",
       "      <td>FEMININO</td>\n",
       "    </tr>\n",
       "  </tbody>\n",
       "</table>\n",
       "</div>"
      ],
      "text/plain": [
       "   ID_CANDIDATO  ANO_ELEICAO  NUM_TURNO DESCRICAO_CARGO DESCRICAO_SEXO\n",
       "0       7000000         2012          1        VEREADOR       FEMININO\n",
       "1       7000001         2012          1        VEREADOR      MASCULINO\n",
       "2       7000002         2012          1        VEREADOR       FEMININO"
      ]
     },
     "execution_count": 256,
     "metadata": {},
     "output_type": "execute_result"
    }
   ],
   "source": [
    "v_2012.head(3)"
   ]
  },
  {
   "cell_type": "code",
   "execution_count": 257,
   "metadata": {},
   "outputs": [
    {
     "data": {
      "text/html": [
       "<div>\n",
       "<style scoped>\n",
       "    .dataframe tbody tr th:only-of-type {\n",
       "        vertical-align: middle;\n",
       "    }\n",
       "\n",
       "    .dataframe tbody tr th {\n",
       "        vertical-align: top;\n",
       "    }\n",
       "\n",
       "    .dataframe thead th {\n",
       "        text-align: right;\n",
       "    }\n",
       "</style>\n",
       "<table border=\"1\" class=\"dataframe\">\n",
       "  <thead>\n",
       "    <tr style=\"text-align: right;\">\n",
       "      <th></th>\n",
       "      <th>ID_CANDIDATO</th>\n",
       "      <th>ANO_ELEICAO</th>\n",
       "      <th>NUM_TURNO</th>\n",
       "      <th>DESCRICAO_CARGO</th>\n",
       "      <th>DESCRICAO_SEXO</th>\n",
       "    </tr>\n",
       "  </thead>\n",
       "  <tbody>\n",
       "    <tr>\n",
       "      <th>447723</th>\n",
       "      <td>7479420</td>\n",
       "      <td>2012</td>\n",
       "      <td>1</td>\n",
       "      <td>VEREADOR</td>\n",
       "      <td>FEMININO</td>\n",
       "    </tr>\n",
       "    <tr>\n",
       "      <th>447724</th>\n",
       "      <td>7479436</td>\n",
       "      <td>2012</td>\n",
       "      <td>1</td>\n",
       "      <td>VEREADOR</td>\n",
       "      <td>MASCULINO</td>\n",
       "    </tr>\n",
       "    <tr>\n",
       "      <th>447725</th>\n",
       "      <td>7479437</td>\n",
       "      <td>2012</td>\n",
       "      <td>1</td>\n",
       "      <td>VEREADOR</td>\n",
       "      <td>MASCULINO</td>\n",
       "    </tr>\n",
       "  </tbody>\n",
       "</table>\n",
       "</div>"
      ],
      "text/plain": [
       "        ID_CANDIDATO  ANO_ELEICAO  NUM_TURNO DESCRICAO_CARGO DESCRICAO_SEXO\n",
       "447723       7479420         2012          1        VEREADOR       FEMININO\n",
       "447724       7479436         2012          1        VEREADOR      MASCULINO\n",
       "447725       7479437         2012          1        VEREADOR      MASCULINO"
      ]
     },
     "execution_count": 257,
     "metadata": {},
     "output_type": "execute_result"
    }
   ],
   "source": [
    "v_2012.tail(3)"
   ]
  },
  {
   "cell_type": "code",
   "execution_count": 258,
   "metadata": {},
   "outputs": [
    {
     "data": {
      "text/html": [
       "<div>\n",
       "<style scoped>\n",
       "    .dataframe tbody tr th:only-of-type {\n",
       "        vertical-align: middle;\n",
       "    }\n",
       "\n",
       "    .dataframe tbody tr th {\n",
       "        vertical-align: top;\n",
       "    }\n",
       "\n",
       "    .dataframe thead th {\n",
       "        text-align: right;\n",
       "    }\n",
       "</style>\n",
       "<table border=\"1\" class=\"dataframe\">\n",
       "  <thead>\n",
       "    <tr style=\"text-align: right;\">\n",
       "      <th></th>\n",
       "      <th>ID_CANDIDATO</th>\n",
       "      <th>ANO_ELEICAO</th>\n",
       "      <th>NUM_TURNO</th>\n",
       "      <th>DESCRICAO_CARGO</th>\n",
       "      <th>DESCRICAO_SEXO</th>\n",
       "    </tr>\n",
       "  </thead>\n",
       "  <tbody>\n",
       "    <tr>\n",
       "      <th>0</th>\n",
       "      <td>9000000</td>\n",
       "      <td>2016</td>\n",
       "      <td>1</td>\n",
       "      <td>VEREADOR</td>\n",
       "      <td>FEMININO</td>\n",
       "    </tr>\n",
       "    <tr>\n",
       "      <th>1</th>\n",
       "      <td>9000001</td>\n",
       "      <td>2016</td>\n",
       "      <td>1</td>\n",
       "      <td>VEREADOR</td>\n",
       "      <td>MASCULINO</td>\n",
       "    </tr>\n",
       "    <tr>\n",
       "      <th>2</th>\n",
       "      <td>9000002</td>\n",
       "      <td>2016</td>\n",
       "      <td>1</td>\n",
       "      <td>VEREADOR</td>\n",
       "      <td>MASCULINO</td>\n",
       "    </tr>\n",
       "  </tbody>\n",
       "</table>\n",
       "</div>"
      ],
      "text/plain": [
       "   ID_CANDIDATO  ANO_ELEICAO  NUM_TURNO DESCRICAO_CARGO DESCRICAO_SEXO\n",
       "0       9000000         2016          1        VEREADOR       FEMININO\n",
       "1       9000001         2016          1        VEREADOR      MASCULINO\n",
       "2       9000002         2016          1        VEREADOR      MASCULINO"
      ]
     },
     "execution_count": 258,
     "metadata": {},
     "output_type": "execute_result"
    }
   ],
   "source": [
    "v_2016.head(3)"
   ]
  },
  {
   "cell_type": "code",
   "execution_count": 259,
   "metadata": {},
   "outputs": [
    {
     "data": {
      "text/html": [
       "<div>\n",
       "<style scoped>\n",
       "    .dataframe tbody tr th:only-of-type {\n",
       "        vertical-align: middle;\n",
       "    }\n",
       "\n",
       "    .dataframe tbody tr th {\n",
       "        vertical-align: top;\n",
       "    }\n",
       "\n",
       "    .dataframe thead th {\n",
       "        text-align: right;\n",
       "    }\n",
       "</style>\n",
       "<table border=\"1\" class=\"dataframe\">\n",
       "  <thead>\n",
       "    <tr style=\"text-align: right;\">\n",
       "      <th></th>\n",
       "      <th>ID_CANDIDATO</th>\n",
       "      <th>ANO_ELEICAO</th>\n",
       "      <th>NUM_TURNO</th>\n",
       "      <th>DESCRICAO_CARGO</th>\n",
       "      <th>DESCRICAO_SEXO</th>\n",
       "    </tr>\n",
       "  </thead>\n",
       "  <tbody>\n",
       "    <tr>\n",
       "      <th>461898</th>\n",
       "      <td>9494920</td>\n",
       "      <td>2016</td>\n",
       "      <td>1</td>\n",
       "      <td>VEREADOR</td>\n",
       "      <td>FEMININO</td>\n",
       "    </tr>\n",
       "    <tr>\n",
       "      <th>461899</th>\n",
       "      <td>9494921</td>\n",
       "      <td>2016</td>\n",
       "      <td>1</td>\n",
       "      <td>VEREADOR</td>\n",
       "      <td>MASCULINO</td>\n",
       "    </tr>\n",
       "    <tr>\n",
       "      <th>461900</th>\n",
       "      <td>9494922</td>\n",
       "      <td>2016</td>\n",
       "      <td>1</td>\n",
       "      <td>VEREADOR</td>\n",
       "      <td>FEMININO</td>\n",
       "    </tr>\n",
       "  </tbody>\n",
       "</table>\n",
       "</div>"
      ],
      "text/plain": [
       "        ID_CANDIDATO  ANO_ELEICAO  NUM_TURNO DESCRICAO_CARGO DESCRICAO_SEXO\n",
       "461898       9494920         2016          1        VEREADOR       FEMININO\n",
       "461899       9494921         2016          1        VEREADOR      MASCULINO\n",
       "461900       9494922         2016          1        VEREADOR       FEMININO"
      ]
     },
     "execution_count": 259,
     "metadata": {},
     "output_type": "execute_result"
    }
   ],
   "source": [
    "v_2016.tail(3)"
   ]
  },
  {
   "cell_type": "code",
   "execution_count": 260,
   "metadata": {},
   "outputs": [
    {
     "data": {
      "text/html": [
       "<div>\n",
       "<style scoped>\n",
       "    .dataframe tbody tr th:only-of-type {\n",
       "        vertical-align: middle;\n",
       "    }\n",
       "\n",
       "    .dataframe tbody tr th {\n",
       "        vertical-align: top;\n",
       "    }\n",
       "\n",
       "    .dataframe thead th {\n",
       "        text-align: right;\n",
       "    }\n",
       "</style>\n",
       "<table border=\"1\" class=\"dataframe\">\n",
       "  <thead>\n",
       "    <tr style=\"text-align: right;\">\n",
       "      <th></th>\n",
       "      <th>ID_CANDIDATO</th>\n",
       "      <th>ANO_ELEICAO</th>\n",
       "      <th>NUM_TURNO</th>\n",
       "      <th>DESCRICAO_CARGO</th>\n",
       "      <th>DESCRICAO_SEXO</th>\n",
       "    </tr>\n",
       "  </thead>\n",
       "  <tbody>\n",
       "    <tr>\n",
       "      <th>0</th>\n",
       "      <td>3000000</td>\n",
       "      <td>2004</td>\n",
       "      <td>1</td>\n",
       "      <td>PREFEITO</td>\n",
       "      <td>MASCULINO</td>\n",
       "    </tr>\n",
       "    <tr>\n",
       "      <th>1</th>\n",
       "      <td>3000001</td>\n",
       "      <td>2004</td>\n",
       "      <td>1</td>\n",
       "      <td>PREFEITO</td>\n",
       "      <td>MASCULINO</td>\n",
       "    </tr>\n",
       "    <tr>\n",
       "      <th>2</th>\n",
       "      <td>3000002</td>\n",
       "      <td>2004</td>\n",
       "      <td>1</td>\n",
       "      <td>PREFEITO</td>\n",
       "      <td>MASCULINO</td>\n",
       "    </tr>\n",
       "  </tbody>\n",
       "</table>\n",
       "</div>"
      ],
      "text/plain": [
       "   ID_CANDIDATO  ANO_ELEICAO  NUM_TURNO DESCRICAO_CARGO DESCRICAO_SEXO\n",
       "0       3000000         2004          1        PREFEITO      MASCULINO\n",
       "1       3000001         2004          1        PREFEITO      MASCULINO\n",
       "2       3000002         2004          1        PREFEITO      MASCULINO"
      ]
     },
     "execution_count": 260,
     "metadata": {},
     "output_type": "execute_result"
    }
   ],
   "source": [
    "p_2004.head(3)"
   ]
  },
  {
   "cell_type": "code",
   "execution_count": 261,
   "metadata": {},
   "outputs": [
    {
     "data": {
      "text/html": [
       "<div>\n",
       "<style scoped>\n",
       "    .dataframe tbody tr th:only-of-type {\n",
       "        vertical-align: middle;\n",
       "    }\n",
       "\n",
       "    .dataframe tbody tr th {\n",
       "        vertical-align: top;\n",
       "    }\n",
       "\n",
       "    .dataframe thead th {\n",
       "        text-align: right;\n",
       "    }\n",
       "</style>\n",
       "<table border=\"1\" class=\"dataframe\">\n",
       "  <thead>\n",
       "    <tr style=\"text-align: right;\">\n",
       "      <th></th>\n",
       "      <th>ID_CANDIDATO</th>\n",
       "      <th>ANO_ELEICAO</th>\n",
       "      <th>NUM_TURNO</th>\n",
       "      <th>DESCRICAO_CARGO</th>\n",
       "      <th>DESCRICAO_SEXO</th>\n",
       "    </tr>\n",
       "  </thead>\n",
       "  <tbody>\n",
       "    <tr>\n",
       "      <th>16092</th>\n",
       "      <td>3399822</td>\n",
       "      <td>2004</td>\n",
       "      <td>1</td>\n",
       "      <td>PREFEITO</td>\n",
       "      <td>FEMININO</td>\n",
       "    </tr>\n",
       "    <tr>\n",
       "      <th>16093</th>\n",
       "      <td>3399823</td>\n",
       "      <td>2004</td>\n",
       "      <td>1</td>\n",
       "      <td>PREFEITO</td>\n",
       "      <td>MASCULINO</td>\n",
       "    </tr>\n",
       "    <tr>\n",
       "      <th>16094</th>\n",
       "      <td>3399824</td>\n",
       "      <td>2004</td>\n",
       "      <td>1</td>\n",
       "      <td>PREFEITO</td>\n",
       "      <td>MASCULINO</td>\n",
       "    </tr>\n",
       "  </tbody>\n",
       "</table>\n",
       "</div>"
      ],
      "text/plain": [
       "       ID_CANDIDATO  ANO_ELEICAO  NUM_TURNO DESCRICAO_CARGO DESCRICAO_SEXO\n",
       "16092       3399822         2004          1        PREFEITO       FEMININO\n",
       "16093       3399823         2004          1        PREFEITO      MASCULINO\n",
       "16094       3399824         2004          1        PREFEITO      MASCULINO"
      ]
     },
     "execution_count": 261,
     "metadata": {},
     "output_type": "execute_result"
    }
   ],
   "source": [
    "p_2004.tail(3)"
   ]
  },
  {
   "cell_type": "code",
   "execution_count": 262,
   "metadata": {},
   "outputs": [
    {
     "data": {
      "text/html": [
       "<div>\n",
       "<style scoped>\n",
       "    .dataframe tbody tr th:only-of-type {\n",
       "        vertical-align: middle;\n",
       "    }\n",
       "\n",
       "    .dataframe tbody tr th {\n",
       "        vertical-align: top;\n",
       "    }\n",
       "\n",
       "    .dataframe thead th {\n",
       "        text-align: right;\n",
       "    }\n",
       "</style>\n",
       "<table border=\"1\" class=\"dataframe\">\n",
       "  <thead>\n",
       "    <tr style=\"text-align: right;\">\n",
       "      <th></th>\n",
       "      <th>ID_CANDIDATO</th>\n",
       "      <th>ANO_ELEICAO</th>\n",
       "      <th>NUM_TURNO</th>\n",
       "      <th>DESCRICAO_CARGO</th>\n",
       "      <th>DESCRICAO_SEXO</th>\n",
       "    </tr>\n",
       "  </thead>\n",
       "  <tbody>\n",
       "    <tr>\n",
       "      <th>0</th>\n",
       "      <td>5000000</td>\n",
       "      <td>2008</td>\n",
       "      <td>1</td>\n",
       "      <td>PREFEITO</td>\n",
       "      <td>MASCULINO</td>\n",
       "    </tr>\n",
       "    <tr>\n",
       "      <th>1</th>\n",
       "      <td>5000001</td>\n",
       "      <td>2008</td>\n",
       "      <td>1</td>\n",
       "      <td>PREFEITO</td>\n",
       "      <td>MASCULINO</td>\n",
       "    </tr>\n",
       "    <tr>\n",
       "      <th>2</th>\n",
       "      <td>5000002</td>\n",
       "      <td>2008</td>\n",
       "      <td>1</td>\n",
       "      <td>PREFEITO</td>\n",
       "      <td>MASCULINO</td>\n",
       "    </tr>\n",
       "  </tbody>\n",
       "</table>\n",
       "</div>"
      ],
      "text/plain": [
       "   ID_CANDIDATO  ANO_ELEICAO  NUM_TURNO DESCRICAO_CARGO DESCRICAO_SEXO\n",
       "0       5000000         2008          1        PREFEITO      MASCULINO\n",
       "1       5000001         2008          1        PREFEITO      MASCULINO\n",
       "2       5000002         2008          1        PREFEITO      MASCULINO"
      ]
     },
     "execution_count": 262,
     "metadata": {},
     "output_type": "execute_result"
    }
   ],
   "source": [
    "p_2008.head(3)"
   ]
  },
  {
   "cell_type": "code",
   "execution_count": 263,
   "metadata": {},
   "outputs": [
    {
     "data": {
      "text/html": [
       "<div>\n",
       "<style scoped>\n",
       "    .dataframe tbody tr th:only-of-type {\n",
       "        vertical-align: middle;\n",
       "    }\n",
       "\n",
       "    .dataframe tbody tr th {\n",
       "        vertical-align: top;\n",
       "    }\n",
       "\n",
       "    .dataframe thead th {\n",
       "        text-align: right;\n",
       "    }\n",
       "</style>\n",
       "<table border=\"1\" class=\"dataframe\">\n",
       "  <thead>\n",
       "    <tr style=\"text-align: right;\">\n",
       "      <th></th>\n",
       "      <th>ID_CANDIDATO</th>\n",
       "      <th>ANO_ELEICAO</th>\n",
       "      <th>NUM_TURNO</th>\n",
       "      <th>DESCRICAO_CARGO</th>\n",
       "      <th>DESCRICAO_SEXO</th>\n",
       "    </tr>\n",
       "  </thead>\n",
       "  <tbody>\n",
       "    <tr>\n",
       "      <th>16216</th>\n",
       "      <td>5384523</td>\n",
       "      <td>2008</td>\n",
       "      <td>1</td>\n",
       "      <td>PREFEITO</td>\n",
       "      <td>FEMININO</td>\n",
       "    </tr>\n",
       "    <tr>\n",
       "      <th>16217</th>\n",
       "      <td>5384528</td>\n",
       "      <td>2008</td>\n",
       "      <td>1</td>\n",
       "      <td>PREFEITO</td>\n",
       "      <td>MASCULINO</td>\n",
       "    </tr>\n",
       "    <tr>\n",
       "      <th>16218</th>\n",
       "      <td>5384529</td>\n",
       "      <td>2008</td>\n",
       "      <td>1</td>\n",
       "      <td>PREFEITO</td>\n",
       "      <td>FEMININO</td>\n",
       "    </tr>\n",
       "  </tbody>\n",
       "</table>\n",
       "</div>"
      ],
      "text/plain": [
       "       ID_CANDIDATO  ANO_ELEICAO  NUM_TURNO DESCRICAO_CARGO DESCRICAO_SEXO\n",
       "16216       5384523         2008          1        PREFEITO       FEMININO\n",
       "16217       5384528         2008          1        PREFEITO      MASCULINO\n",
       "16218       5384529         2008          1        PREFEITO       FEMININO"
      ]
     },
     "execution_count": 263,
     "metadata": {},
     "output_type": "execute_result"
    }
   ],
   "source": [
    "p_2008.tail(3)"
   ]
  },
  {
   "cell_type": "code",
   "execution_count": 264,
   "metadata": {},
   "outputs": [
    {
     "data": {
      "text/html": [
       "<div>\n",
       "<style scoped>\n",
       "    .dataframe tbody tr th:only-of-type {\n",
       "        vertical-align: middle;\n",
       "    }\n",
       "\n",
       "    .dataframe tbody tr th {\n",
       "        vertical-align: top;\n",
       "    }\n",
       "\n",
       "    .dataframe thead th {\n",
       "        text-align: right;\n",
       "    }\n",
       "</style>\n",
       "<table border=\"1\" class=\"dataframe\">\n",
       "  <thead>\n",
       "    <tr style=\"text-align: right;\">\n",
       "      <th></th>\n",
       "      <th>ID_CANDIDATO</th>\n",
       "      <th>ANO_ELEICAO</th>\n",
       "      <th>NUM_TURNO</th>\n",
       "      <th>DESCRICAO_CARGO</th>\n",
       "      <th>DESCRICAO_SEXO</th>\n",
       "    </tr>\n",
       "  </thead>\n",
       "  <tbody>\n",
       "    <tr>\n",
       "      <th>0</th>\n",
       "      <td>7000009</td>\n",
       "      <td>2012</td>\n",
       "      <td>1</td>\n",
       "      <td>PREFEITO</td>\n",
       "      <td>FEMININO</td>\n",
       "    </tr>\n",
       "    <tr>\n",
       "      <th>1</th>\n",
       "      <td>7000029</td>\n",
       "      <td>2012</td>\n",
       "      <td>1</td>\n",
       "      <td>PREFEITO</td>\n",
       "      <td>MASCULINO</td>\n",
       "    </tr>\n",
       "    <tr>\n",
       "      <th>2</th>\n",
       "      <td>7000051</td>\n",
       "      <td>2012</td>\n",
       "      <td>1</td>\n",
       "      <td>PREFEITO</td>\n",
       "      <td>MASCULINO</td>\n",
       "    </tr>\n",
       "  </tbody>\n",
       "</table>\n",
       "</div>"
      ],
      "text/plain": [
       "   ID_CANDIDATO  ANO_ELEICAO  NUM_TURNO DESCRICAO_CARGO DESCRICAO_SEXO\n",
       "0       7000009         2012          1        PREFEITO       FEMININO\n",
       "1       7000029         2012          1        PREFEITO      MASCULINO\n",
       "2       7000051         2012          1        PREFEITO      MASCULINO"
      ]
     },
     "execution_count": 264,
     "metadata": {},
     "output_type": "execute_result"
    }
   ],
   "source": [
    "p_2012.head(3)"
   ]
  },
  {
   "cell_type": "code",
   "execution_count": 265,
   "metadata": {},
   "outputs": [
    {
     "data": {
      "text/html": [
       "<div>\n",
       "<style scoped>\n",
       "    .dataframe tbody tr th:only-of-type {\n",
       "        vertical-align: middle;\n",
       "    }\n",
       "\n",
       "    .dataframe tbody tr th {\n",
       "        vertical-align: top;\n",
       "    }\n",
       "\n",
       "    .dataframe thead th {\n",
       "        text-align: right;\n",
       "    }\n",
       "</style>\n",
       "<table border=\"1\" class=\"dataframe\">\n",
       "  <thead>\n",
       "    <tr style=\"text-align: right;\">\n",
       "      <th></th>\n",
       "      <th>ID_CANDIDATO</th>\n",
       "      <th>ANO_ELEICAO</th>\n",
       "      <th>NUM_TURNO</th>\n",
       "      <th>DESCRICAO_CARGO</th>\n",
       "      <th>DESCRICAO_SEXO</th>\n",
       "    </tr>\n",
       "  </thead>\n",
       "  <tbody>\n",
       "    <tr>\n",
       "      <th>15921</th>\n",
       "      <td>7479443</td>\n",
       "      <td>2012</td>\n",
       "      <td>1</td>\n",
       "      <td>PREFEITO</td>\n",
       "      <td>MASCULINO</td>\n",
       "    </tr>\n",
       "    <tr>\n",
       "      <th>15922</th>\n",
       "      <td>7479444</td>\n",
       "      <td>2012</td>\n",
       "      <td>1</td>\n",
       "      <td>PREFEITO</td>\n",
       "      <td>MASCULINO</td>\n",
       "    </tr>\n",
       "    <tr>\n",
       "      <th>15923</th>\n",
       "      <td>7479445</td>\n",
       "      <td>2012</td>\n",
       "      <td>1</td>\n",
       "      <td>PREFEITO</td>\n",
       "      <td>FEMININO</td>\n",
       "    </tr>\n",
       "  </tbody>\n",
       "</table>\n",
       "</div>"
      ],
      "text/plain": [
       "       ID_CANDIDATO  ANO_ELEICAO  NUM_TURNO DESCRICAO_CARGO DESCRICAO_SEXO\n",
       "15921       7479443         2012          1        PREFEITO      MASCULINO\n",
       "15922       7479444         2012          1        PREFEITO      MASCULINO\n",
       "15923       7479445         2012          1        PREFEITO       FEMININO"
      ]
     },
     "execution_count": 265,
     "metadata": {},
     "output_type": "execute_result"
    }
   ],
   "source": [
    "p_2012.tail(3)"
   ]
  },
  {
   "cell_type": "code",
   "execution_count": 266,
   "metadata": {},
   "outputs": [
    {
     "data": {
      "text/html": [
       "<div>\n",
       "<style scoped>\n",
       "    .dataframe tbody tr th:only-of-type {\n",
       "        vertical-align: middle;\n",
       "    }\n",
       "\n",
       "    .dataframe tbody tr th {\n",
       "        vertical-align: top;\n",
       "    }\n",
       "\n",
       "    .dataframe thead th {\n",
       "        text-align: right;\n",
       "    }\n",
       "</style>\n",
       "<table border=\"1\" class=\"dataframe\">\n",
       "  <thead>\n",
       "    <tr style=\"text-align: right;\">\n",
       "      <th></th>\n",
       "      <th>ID_CANDIDATO</th>\n",
       "      <th>ANO_ELEICAO</th>\n",
       "      <th>NUM_TURNO</th>\n",
       "      <th>DESCRICAO_CARGO</th>\n",
       "      <th>DESCRICAO_SEXO</th>\n",
       "    </tr>\n",
       "  </thead>\n",
       "  <tbody>\n",
       "    <tr>\n",
       "      <th>0</th>\n",
       "      <td>9000052</td>\n",
       "      <td>2016</td>\n",
       "      <td>1</td>\n",
       "      <td>PREFEITO</td>\n",
       "      <td>MASCULINO</td>\n",
       "    </tr>\n",
       "    <tr>\n",
       "      <th>1</th>\n",
       "      <td>9000116</td>\n",
       "      <td>2016</td>\n",
       "      <td>1</td>\n",
       "      <td>PREFEITO</td>\n",
       "      <td>FEMININO</td>\n",
       "    </tr>\n",
       "    <tr>\n",
       "      <th>2</th>\n",
       "      <td>9000130</td>\n",
       "      <td>2016</td>\n",
       "      <td>1</td>\n",
       "      <td>PREFEITO</td>\n",
       "      <td>MASCULINO</td>\n",
       "    </tr>\n",
       "  </tbody>\n",
       "</table>\n",
       "</div>"
      ],
      "text/plain": [
       "   ID_CANDIDATO  ANO_ELEICAO  NUM_TURNO DESCRICAO_CARGO DESCRICAO_SEXO\n",
       "0       9000052         2016          1        PREFEITO      MASCULINO\n",
       "1       9000116         2016          1        PREFEITO       FEMININO\n",
       "2       9000130         2016          1        PREFEITO      MASCULINO"
      ]
     },
     "execution_count": 266,
     "metadata": {},
     "output_type": "execute_result"
    }
   ],
   "source": [
    "p_2016.head(3)"
   ]
  },
  {
   "cell_type": "code",
   "execution_count": 267,
   "metadata": {},
   "outputs": [
    {
     "data": {
      "text/html": [
       "<div>\n",
       "<style scoped>\n",
       "    .dataframe tbody tr th:only-of-type {\n",
       "        vertical-align: middle;\n",
       "    }\n",
       "\n",
       "    .dataframe tbody tr th {\n",
       "        vertical-align: top;\n",
       "    }\n",
       "\n",
       "    .dataframe thead th {\n",
       "        text-align: right;\n",
       "    }\n",
       "</style>\n",
       "<table border=\"1\" class=\"dataframe\">\n",
       "  <thead>\n",
       "    <tr style=\"text-align: right;\">\n",
       "      <th></th>\n",
       "      <th>ID_CANDIDATO</th>\n",
       "      <th>ANO_ELEICAO</th>\n",
       "      <th>NUM_TURNO</th>\n",
       "      <th>DESCRICAO_CARGO</th>\n",
       "      <th>DESCRICAO_SEXO</th>\n",
       "    </tr>\n",
       "  </thead>\n",
       "  <tbody>\n",
       "    <tr>\n",
       "      <th>16538</th>\n",
       "      <td>9494900</td>\n",
       "      <td>2016</td>\n",
       "      <td>1</td>\n",
       "      <td>PREFEITO</td>\n",
       "      <td>FEMININO</td>\n",
       "    </tr>\n",
       "    <tr>\n",
       "      <th>16539</th>\n",
       "      <td>9494908</td>\n",
       "      <td>2016</td>\n",
       "      <td>1</td>\n",
       "      <td>PREFEITO</td>\n",
       "      <td>MASCULINO</td>\n",
       "    </tr>\n",
       "    <tr>\n",
       "      <th>16540</th>\n",
       "      <td>9494923</td>\n",
       "      <td>2016</td>\n",
       "      <td>1</td>\n",
       "      <td>PREFEITO</td>\n",
       "      <td>FEMININO</td>\n",
       "    </tr>\n",
       "  </tbody>\n",
       "</table>\n",
       "</div>"
      ],
      "text/plain": [
       "       ID_CANDIDATO  ANO_ELEICAO  NUM_TURNO DESCRICAO_CARGO DESCRICAO_SEXO\n",
       "16538       9494900         2016          1        PREFEITO       FEMININO\n",
       "16539       9494908         2016          1        PREFEITO      MASCULINO\n",
       "16540       9494923         2016          1        PREFEITO       FEMININO"
      ]
     },
     "execution_count": 267,
     "metadata": {},
     "output_type": "execute_result"
    }
   ],
   "source": [
    "p_2016.tail(3)"
   ]
  },
  {
   "cell_type": "markdown",
   "metadata": {},
   "source": [
    "<h3>Em seguida, contabilizar as candidaturas de mulheres ao cargo de vereador e prefeito.</h3>"
   ]
  },
  {
   "cell_type": "code",
   "execution_count": 268,
   "metadata": {},
   "outputs": [],
   "source": [
    "v_2004_mul = v_2004.query(\"DESCRICAO_SEXO == 'FEMININO'\")['DESCRICAO_SEXO'].count()\n",
    "v_2008_mul = v_2008.query(\"DESCRICAO_SEXO == 'FEMININO'\")['DESCRICAO_SEXO'].count()\n",
    "v_2012_mul = v_2012.query(\"DESCRICAO_SEXO == 'FEMININO'\")['DESCRICAO_SEXO'].count()\n",
    "v_2016_mul = v_2016.query(\"DESCRICAO_SEXO == 'FEMININO'\")['DESCRICAO_SEXO'].count()\n",
    "\n",
    "p_2004_mul = p_2004.query(\"DESCRICAO_SEXO == 'FEMININO'\")['DESCRICAO_SEXO'].count()\n",
    "p_2008_mul = p_2008.query(\"DESCRICAO_SEXO == 'FEMININO'\")['DESCRICAO_SEXO'].count()\n",
    "p_2012_mul = p_2012.query(\"DESCRICAO_SEXO == 'FEMININO'\")['DESCRICAO_SEXO'].count()\n",
    "p_2016_mul = p_2016.query(\"DESCRICAO_SEXO == 'FEMININO'\")['DESCRICAO_SEXO'].count()"
   ]
  },
  {
   "cell_type": "code",
   "execution_count": 269,
   "metadata": {},
   "outputs": [
    {
     "name": "stdout",
     "output_type": "stream",
     "text": [
      "81048\n",
      "77436\n",
      "146169\n",
      "152580\n",
      "1531\n",
      "1798\n",
      "2130\n",
      "2150\n"
     ]
    }
   ],
   "source": [
    "print(v_2004_mul)\n",
    "print(v_2008_mul)\n",
    "print(v_2012_mul)\n",
    "print(v_2016_mul)\n",
    "\n",
    "print(p_2004_mul)\n",
    "print(p_2008_mul)\n",
    "print(p_2012_mul)\n",
    "print(p_2016_mul)"
   ]
  },
  {
   "cell_type": "markdown",
   "metadata": {},
   "source": [
    "<h3>Depois, contabilizar as candidaturas de homens ao cargo de vereador e prefeito.</h3>"
   ]
  },
  {
   "cell_type": "code",
   "execution_count": 270,
   "metadata": {},
   "outputs": [],
   "source": [
    "v_2004_hom = v_2004.query(\"DESCRICAO_SEXO == 'MASCULINO'\")['DESCRICAO_SEXO'].count()\n",
    "v_2008_hom = v_2008.query(\"DESCRICAO_SEXO == 'MASCULINO'\")['DESCRICAO_SEXO'].count()\n",
    "v_2012_hom = v_2012.query(\"DESCRICAO_SEXO == 'MASCULINO'\")['DESCRICAO_SEXO'].count()\n",
    "v_2016_hom = v_2016.query(\"DESCRICAO_SEXO == 'MASCULINO'\")['DESCRICAO_SEXO'].count()\n",
    "\n",
    "p_2004_hom = p_2004.query(\"DESCRICAO_SEXO == 'MASCULINO'\")['DESCRICAO_SEXO'].count()\n",
    "p_2008_hom = p_2008.query(\"DESCRICAO_SEXO == 'MASCULINO'\")['DESCRICAO_SEXO'].count()\n",
    "p_2012_hom = p_2012.query(\"DESCRICAO_SEXO == 'MASCULINO'\")['DESCRICAO_SEXO'].count()\n",
    "p_2016_hom = p_2016.query(\"DESCRICAO_SEXO == 'MASCULINO'\")['DESCRICAO_SEXO'].count()"
   ]
  },
  {
   "cell_type": "code",
   "execution_count": 271,
   "metadata": {},
   "outputs": [
    {
     "name": "stdout",
     "output_type": "stream",
     "text": [
      "286433\n",
      "274194\n",
      "301557\n",
      "309321\n",
      "14561\n",
      "14421\n",
      "13794\n",
      "14391\n"
     ]
    }
   ],
   "source": [
    "print(v_2004_hom)\n",
    "print(v_2008_hom)\n",
    "print(v_2012_hom)\n",
    "print(v_2016_hom)\n",
    "\n",
    "print(p_2004_hom)\n",
    "print(p_2008_hom)\n",
    "print(p_2012_hom)\n",
    "print(p_2016_hom)"
   ]
  },
  {
   "cell_type": "markdown",
   "metadata": {},
   "source": [
    "<h3>Calculando o total de candidaturas:</h3>"
   ]
  },
  {
   "cell_type": "code",
   "execution_count": 272,
   "metadata": {},
   "outputs": [
    {
     "name": "stdout",
     "output_type": "stream",
     "text": [
      "total vereadores\n",
      "367481\n",
      "351630\n",
      "447726\n",
      "461901\n",
      "\n",
      "\n",
      "total prefeitos\n",
      "16092\n",
      "16219\n",
      "15924\n",
      "16541\n"
     ]
    }
   ],
   "source": [
    "v_2004_total = v_2004_mul + v_2004_hom\n",
    "v_2008_total = v_2008_mul + v_2008_hom\n",
    "v_2012_total = v_2012_mul + v_2012_hom\n",
    "v_2016_total = v_2016_mul + v_2016_hom\n",
    "print('total vereadores')\n",
    "print(v_2004_total)\n",
    "print(v_2008_total)\n",
    "print(v_2012_total)\n",
    "print(v_2016_total)\n",
    "\n",
    "print('\\n')\n",
    "\n",
    "p_2004_total = p_2004_mul + p_2004_hom\n",
    "p_2008_total = p_2008_mul + p_2008_hom\n",
    "p_2012_total = p_2012_mul + p_2012_hom\n",
    "p_2016_total = p_2016_mul + p_2016_hom\n",
    "print('total prefeitos')\n",
    "print(p_2004_total)\n",
    "print(p_2008_total)\n",
    "print(p_2012_total)\n",
    "print(p_2016_total)"
   ]
  },
  {
   "cell_type": "markdown",
   "metadata": {},
   "source": [
    "<h3>Calculando percentual de mulheres e homens:</h3>"
   ]
  },
  {
   "cell_type": "code",
   "execution_count": 279,
   "metadata": {},
   "outputs": [
    {
     "name": "stdout",
     "output_type": "stream",
     "text": [
      "% candidatos vereador mulheres\n",
      "22.1\n",
      "22.0\n",
      "32.6\n",
      "33.0\n",
      "\n",
      "\n",
      "% candidatos vereador homens\n",
      "77.9\n",
      "78.0\n",
      "67.4\n",
      "67.0\n",
      "\n",
      "\n",
      "% candidatos prefeito mulheres\n",
      "9.5\n",
      "11.1\n",
      "13.4\n",
      "13.0\n",
      "\n",
      "\n",
      "% candidatos prefeito homens\n",
      "90.5\n",
      "88.9\n",
      "86.6\n",
      "87.0\n"
     ]
    }
   ],
   "source": [
    "#Vereador\n",
    "per_v_2004_mul = float('%.1f'%(v_2004_mul/v_2004_total *100))\n",
    "per_v_2008_mul = float('%.1f'%(v_2008_mul/v_2008_total *100))\n",
    "per_v_2012_mul = float('%.1f'%(v_2012_mul/v_2012_total *100))\n",
    "per_v_2016_mul = float('%.1f'%(v_2016_mul/v_2016_total *100))\n",
    "\n",
    "per_v_2004_hom = float('%.1f'%(v_2004_hom/v_2004_total *100))\n",
    "per_v_2008_hom = float('%.1f'%(v_2008_hom/v_2008_total *100))\n",
    "per_v_2012_hom = float('%.1f'%(v_2012_hom/v_2012_total *100))\n",
    "per_v_2016_hom = float('%.1f'%(v_2016_hom/v_2016_total *100))\n",
    "\n",
    "print('% candidatos vereador mulheres')\n",
    "print(per_v_2004_mul)\n",
    "print(per_v_2008_mul)\n",
    "print(per_v_2012_mul)\n",
    "print(per_v_2016_mul)\n",
    "print('\\n')\n",
    "print('% candidatos vereador homens')\n",
    "print(per_v_2004_hom)\n",
    "print(per_v_2008_hom)\n",
    "print(per_v_2012_hom)\n",
    "print(per_v_2016_hom)\n",
    "print('\\n')\n",
    "\n",
    "#Prefeito\n",
    "per_p_2004_mul = float('%.1f'%(p_2004_mul/p_2004_total *100))\n",
    "per_p_2008_mul = float('%.1f'%(p_2008_mul/p_2008_total *100))\n",
    "per_p_2012_mul = float('%.1f'%(p_2012_mul/p_2012_total *100))\n",
    "per_p_2016_mul = float('%.1f'%(p_2016_mul/p_2016_total *100))\n",
    "\n",
    "per_p_2004_hom = float('%.1f'%(p_2004_hom/p_2004_total *100))\n",
    "per_p_2008_hom = float('%.1f'%(p_2008_hom/p_2008_total *100))\n",
    "per_p_2012_hom = float('%.1f'%(p_2012_hom/p_2012_total *100))\n",
    "per_p_2016_hom = float('%.1f'%(p_2016_hom/p_2016_total *100))\n",
    "      \n",
    "print('% candidatos prefeito mulheres')\n",
    "print(per_p_2004_mul)\n",
    "print(per_p_2008_mul)\n",
    "print(per_p_2012_mul)\n",
    "print(per_p_2016_mul)\n",
    "print('\\n')\n",
    "print('% candidatos prefeito homens')\n",
    "print(per_p_2004_hom)\n",
    "print(per_p_2008_hom)\n",
    "print(per_p_2012_hom)\n",
    "print(per_p_2016_hom)"
   ]
  },
  {
   "cell_type": "markdown",
   "metadata": {},
   "source": [
    "<h3>Análise de Candidaturas a Vereador</h3>"
   ]
  },
  {
   "cell_type": "code",
   "execution_count": 283,
   "metadata": {},
   "outputs": [
    {
     "data": {
      "image/png": "[encoded data removed]",
      "text/plain": [
       "<Figure size 432x288 with 1 Axes>"
      ]
     },
     "metadata": {
      "needs_background": "light"
     },
     "output_type": "display_data"
    }
   ],
   "source": [
    "anos = ['2004','2008','2012','2016']\n",
    "\n",
    "per_v_mul = [per_v_2004_mul,per_v_2008_mul,per_v_2012_mul,per_v_2016_mul]\n",
    "per_v_hom = [per_v_2004_hom,per_v_2008_hom,per_v_2012_hom,per_v_2016_hom]\n",
    "\n",
    "x = np.arange(len(anos))  #labels do eixo x\n",
    "width = 0.3 #espessura da barra\n",
    "\n",
    "fig, ax = plt.subplots()\n",
    "rects1 = ax.bar(x - width/2, per_v_mul, width, label='% Mulheres')\n",
    "rects2 = ax.bar(x + width/2, per_v_hom, width, label='% Homens')\n",
    "\n",
    "ax.set_title('Candidatos a Vereador')\n",
    "ax.set_xticks(x)\n",
    "ax.set_xticklabels(anos)\n",
    "ax.legend()\n",
    "\n",
    "def autolabel(rects):\n",
    "    # Anexa um valor acima de cada barra, exibindo sua altura\n",
    "    for rect in rects:\n",
    "        height = rect.get_height()\n",
    "        ax.annotate('{}'.format(height),\n",
    "                    xy=(rect.get_x() + rect.get_width() / 2, height),\n",
    "                    xytext=(0, 3), # Alinhamento dos valores das alturas das barras\n",
    "                    textcoords=\"offset points\",\n",
    "                    ha='center', va='bottom')\n",
    "        \n",
    "autolabel(rects1)\n",
    "autolabel(rects2)\n",
    "\n",
    "fig.tight_layout()\n",
    "\n",
    "plt.show()"
   ]
  },
  {
   "cell_type": "markdown",
   "metadata": {},
   "source": [
    "<h3>Análise de Candidaturas a Prefeito</h3>"
   ]
  },
  {
   "cell_type": "code",
   "execution_count": 285,
   "metadata": {},
   "outputs": [
    {
     "ename": "AttributeError",
     "evalue": "'AxesSubplot' object has no attribute 'ylim'",
     "output_type": "error",
     "traceback": [
      "\u001b[0;31m---------------------------------------------------------------------------\u001b[0m",
      "\u001b[0;31mAttributeError\u001b[0m                            Traceback (most recent call last)",
      "\u001b[0;32m<ipython-input-285-e1a0dd79e836>\u001b[0m in \u001b[0;36m<module>\u001b[0;34m\u001b[0m\n\u001b[1;32m     15\u001b[0m \u001b[0max\u001b[0m\u001b[0;34m.\u001b[0m\u001b[0mset_xticklabels\u001b[0m\u001b[0;34m(\u001b[0m\u001b[0manos\u001b[0m\u001b[0;34m)\u001b[0m\u001b[0;34m\u001b[0m\u001b[0;34m\u001b[0m\u001b[0m\n\u001b[1;32m     16\u001b[0m \u001b[0max\u001b[0m\u001b[0;34m.\u001b[0m\u001b[0mlegend\u001b[0m\u001b[0;34m(\u001b[0m\u001b[0;34m)\u001b[0m\u001b[0;34m\u001b[0m\u001b[0;34m\u001b[0m\u001b[0m\n\u001b[0;32m---> 17\u001b[0;31m \u001b[0max\u001b[0m\u001b[0;34m.\u001b[0m\u001b[0mylim\u001b[0m\u001b[0;34m(\u001b[0m\u001b[0;36m0\u001b[0m\u001b[0;34m,\u001b[0m\u001b[0;36m100\u001b[0m\u001b[0;34m)\u001b[0m\u001b[0;34m\u001b[0m\u001b[0;34m\u001b[0m\u001b[0m\n\u001b[0m\u001b[1;32m     18\u001b[0m \u001b[0;34m\u001b[0m\u001b[0m\n\u001b[1;32m     19\u001b[0m \u001b[0mautolabel\u001b[0m\u001b[0;34m(\u001b[0m\u001b[0mrects3\u001b[0m\u001b[0;34m)\u001b[0m\u001b[0;34m\u001b[0m\u001b[0;34m\u001b[0m\u001b[0m\n",
      "\u001b[0;31mAttributeError\u001b[0m: 'AxesSubplot' object has no attribute 'ylim'"
     ]
    },
    {
     "data": {
      "image/png": "[encoded data removed]",
      "text/plain": [
       "<Figure size 432x288 with 1 Axes>"
      ]
     },
     "metadata": {
      "needs_background": "light"
     },
     "output_type": "display_data"
    }
   ],
   "source": [
    "anos = ['2004','2008','2012','2016']\n",
    "\n",
    "per_p_mul = [per_p_2004_mul,per_p_2008_mul,per_p_2012_mul,per_p_2016_mul]\n",
    "per_p_hom = [per_p_2004_hom,per_p_2008_hom,per_p_2012_hom,per_p_2016_hom]\n",
    "\n",
    "x = np.arange(len(anos))  #labels do eixo x\n",
    "width = 0.3 #espessura da barra\n",
    "\n",
    "fig, ax = plt.subplots()\n",
    "rects3 = ax.bar(x - width/2, per_p_mul, width, label='% Mulheres')\n",
    "rects4 = ax.bar(x + width/2, per_p_hom, width, label='% Homens')\n",
    "\n",
    "ax.set_title('Candidatos a Prefeito')\n",
    "ax.set_xticks(x)\n",
    "ax.set_xticklabels(anos)\n",
    "ax.legend()\n",
    "ax.ylim(0,100)\n",
    "        \n",
    "autolabel(rects3)\n",
    "autolabel(rects4)\n",
    "\n",
    "fig.tight_layout()\n",
    "\n",
    "plt.show()"
   ]
  },
  {
   "cell_type": "code",
   "execution_count": null,
   "metadata": {},
   "outputs": [],
   "source": []
  }
 ],
 "metadata": {
  "kernelspec": {
   "display_name": "Python 3",
   "language": "python",
   "name": "python3"
  },
  "language_info": {
   "codemirror_mode": {
    "name": "ipython",
    "version": 3
   },
   "file_extension": ".py",
   "mimetype": "text/x-python",
   "name": "python",
   "nbconvert_exporter": "python",
   "pygments_lexer": "ipython3",
   "version": "3.6.9"
  }
 },
 "nbformat": 4,
 "nbformat_minor": 4
}
